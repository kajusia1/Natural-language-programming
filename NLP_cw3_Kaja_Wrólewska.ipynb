{
 "cells": [
  {
   "cell_type": "markdown",
   "metadata": {},
   "source": [
    "Zadanie1: Podziel wyjściowy zbiór sentencji $treebank.tagged\\_sents()$ na dwa zbiory: pierwsze 3000 sentencje zapisz pod zmienną  $trained$, natomiast pozostałe sentencje zapisz pod zmienną $tested$. Zbuduj model tylko w oparciu o $trained$. Następnie wykonaj ewaluacje modelu zarówno na  $trained$  jak i  $tested$. Zastanów się z czego mogą wynikać rozbieżności."
   ]
  },
  {
   "cell_type": "code",
   "execution_count": 2,
   "metadata": {},
   "outputs": [],
   "source": [
    "from nltk.corpus import treebank\n",
    "trained = treebank.tagged_sents()[:3000]\n",
    "tested = treebank.tagged_sents()[3000:]\n",
    "\n",
    "from nltk.tag import hmm  #Ukryte modele Markowa\n",
    "\n",
    "trainer = hmm.HiddenMarkovModelTrainer() #buduje model HMMM\n",
    "tagger = trainer.train_supervised(trained) #trenuje model (metoda największej wiarygodności) na wszystkich otagowanych sentencjach z treebank"
   ]
  },
  {
   "cell_type": "code",
   "execution_count": 3,
   "metadata": {},
   "outputs": [
    {
     "name": "stderr",
     "output_type": "stream",
     "text": [
      "c:\\Users\\kajaw\\miniconda3\\envs\\Pbioinf1.2\\Lib\\site-packages\\nltk\\tag\\hmm.py:333: RuntimeWarning: overflow encountered in cast\n",
      "  X[i, j] = self._transitions[si].logprob(self._states[j])\n",
      "c:\\Users\\kajaw\\miniconda3\\envs\\Pbioinf1.2\\Lib\\site-packages\\nltk\\tag\\hmm.py:335: RuntimeWarning: overflow encountered in cast\n",
      "  O[i, k] = self._output_logprob(si, self._symbols[k])\n",
      "c:\\Users\\kajaw\\miniconda3\\envs\\Pbioinf1.2\\Lib\\site-packages\\nltk\\tag\\hmm.py:331: RuntimeWarning: overflow encountered in cast\n",
      "  P[i] = self._priors.logprob(si)\n",
      "c:\\Users\\kajaw\\miniconda3\\envs\\Pbioinf1.2\\Lib\\site-packages\\nltk\\tag\\hmm.py:363: RuntimeWarning: overflow encountered in cast\n",
      "  O[i, k] = self._output_logprob(si, self._symbols[k])\n"
     ]
    },
    {
     "name": "stdout",
     "output_type": "stream",
     "text": [
      "Tested: 0.36844377293330455\n",
      "Trained: 0.981615512636916\n"
     ]
    }
   ],
   "source": [
    "print(f\"Tested: {tagger.accuracy(tested)}\")\n",
    "print(f\"Trained: {tagger.accuracy(trained)}\")  "
   ]
  },
  {
   "cell_type": "code",
   "execution_count": 4,
   "metadata": {},
   "outputs": [
    {
     "name": "stdout",
     "output_type": "stream",
     "text": [
      "Random: 0.021186777384878223\n"
     ]
    }
   ],
   "source": [
    "#accuracy ranomowego przypisania\n",
    "\n",
    "import random\n",
    "\n",
    "# wyciągamy tagi z treebank\n",
    "# struktura treebank.tagged_sents(): [[(wor,tag), ..., ()], [another sentence], ..., []]\n",
    "all_tags = list(set(tag for sentence in treebank.tagged_sents() for word, tag in sentence))\n",
    "\n",
    "# przypisanie losowych tagów\n",
    "def random_tagger(sentences):\n",
    "    return [[(word, random.choice(all_tags)) for word, tag in sent] for sent in sentences]\n",
    "\n",
    "random_tagged_sentences = random_tagger(treebank.tagged_sents())\n",
    "\n",
    "print(f\"Random: {tagger.accuracy(random_tagged_sentences)}\") \n"
   ]
  },
  {
   "cell_type": "markdown",
   "metadata": {},
   "source": [
    "<h3> Porcjowanie (Chunking)\n"
   ]
  },
  {
   "cell_type": "code",
   "execution_count": 5,
   "metadata": {},
   "outputs": [],
   "source": [
    "text = \"The Very Large Telescope (VLT) of the European Southern Observatory (ESO), an array of four individual telescopes in the Atacama desert, has given us a huge amount of new data about the universe. Researchers have now used it to find a group of six galaxies around a supermassive black hole, from when the Universe was just 0.9 billion years old - it's estimated to be 13.8 billion years old now. Black holes are thought to sit at the center of galaxies including the Milky Way. \"\n",
    "from nltk import sent_tokenize, word_tokenize\n",
    "sentences = sent_tokenize(text.lower()) #podzial na zdania\n",
    "tokens_sen1 = word_tokenize(sentences[0]) #pierwsze słowa ze zdań\n",
    "\n",
    "from nltk import pos_tag #Części mowy\n",
    "tags = pos_tag(tokens_sen1)"
   ]
  },
  {
   "cell_type": "markdown",
   "metadata": {},
   "source": [
    "<h4> Zadanie2: Zapisz do listy wszystkie chunki występujące w tekście a spełniajacy zadany (przez siebie) warunek."
   ]
  },
  {
   "cell_type": "code",
   "execution_count": 6,
   "metadata": {},
   "outputs": [],
   "source": [
    "from nltk.chunk import RegexpParser\n",
    "\n",
    "grammar = \"chunk: {<RB>+<JJ.?>*<NN>}\" #DT - determiner/określnik, JJ - adjective/przymiotnik, NN - noun/rzeczonik\n",
    "chunker = RegexpParser(grammar) \n",
    "result = chunker.parse(tags) #tags zdefiniowane bylo wyzej"
   ]
  },
  {
   "cell_type": "code",
   "execution_count": 7,
   "metadata": {},
   "outputs": [],
   "source": [
    "result.draw() #rysowanie tego co wyzej (pojawia sie nowe okno)"
   ]
  },
  {
   "cell_type": "markdown",
   "metadata": {},
   "source": [
    "<h4> Zadanie3: Zinterpretuj poniższy chunk."
   ]
  },
  {
   "cell_type": "code",
   "execution_count": 8,
   "metadata": {},
   "outputs": [],
   "source": [
    "grammar = \"chunk: {<NN.?>*<VBD.?>*<JJ.?>*<CC>?}\" #co oznacza wyrazenie regularne zapisane w {}?\n",
    "chunker = RegexpParser(grammar) \n",
    "result = chunker.parse(tags) #tags zdefiniowane bylo wyzej\n",
    "result.draw()\n",
    "\n",
    "#<NN.?>* zero lub więcej (NN plus 0 lub 1 znak (czyli NN, NNS, NNP, NNPS))\n",
    "#<VBD.?>* analoogicznie\n",
    "#<JJ.?>* analogicznie\n",
    "#<CC>? CC 0 lub 1 razy"
   ]
  },
  {
   "cell_type": "markdown",
   "metadata": {},
   "source": [
    "<h4> Zadanie4: Pobierz dowolny tekst (przez f = open(...)). Następnie wyznacz dla niego zaproponowany przez siebie chunk."
   ]
  },
  {
   "cell_type": "code",
   "execution_count": 9,
   "metadata": {},
   "outputs": [],
   "source": [
    "import pandas as pf\n",
    "with open(\"example_text.txt\") as file:\n",
    "    example_text = file.read()\n",
    "\n",
    "from nltk import sent_tokenize, word_tokenize\n",
    "\n",
    "ex_sentences = sent_tokenize(example_text.lower()) #podzial na zdania\n",
    "ex_tokens_sen1 = word_tokenize(ex_sentences[1]) \n",
    "\n",
    "from nltk import pos_tag #Części mowy\n",
    "ex_text_tags = pos_tag(ex_tokens_sen1)\n",
    "\n",
    "grammar = \"chunk: {<NN.?>*<VBD>*<JJ.?>*<CC>?}\" \n",
    "chunker = RegexpParser(grammar) \n",
    "result = chunker.parse(ex_text_tags) \n",
    "result.draw()"
   ]
  },
  {
   "cell_type": "markdown",
   "metadata": {},
   "source": [
    "<h4> Zadanie5: Znajdz wszystkie byty (entity) w tekście poniżej."
   ]
  },
  {
   "cell_type": "code",
   "execution_count": 10,
   "metadata": {},
   "outputs": [
    {
     "name": "stdout",
     "output_type": "stream",
     "text": [
      "[('Google', 'NNP'), (',', ','), ('LLC', 'NNP'), ('is', 'VBZ'), ('an', 'DT'), ('American', 'JJ'), ('multinational', 'NN'), ('technology', 'NN'), ('company', 'NN'), ('that', 'WDT'), ('specializes', 'VBZ'), ('in', 'IN'), ('Internet-related', 'NNP'), ('services', 'NNS'), ('and', 'CC'), ('products', 'NNS'), (',', ','), ('which', 'WDT'), ('include', 'VBP'), ('online', 'JJ'), ('advertising', 'NN'), ('technologies', 'NNS'), (',', ','), ('a', 'DT'), ('search', 'NN'), ('engine', 'NN'), (',', ','), ('cloud', 'NN'), ('computing', 'NN'), (',', ','), ('software', 'NN'), (',', ','), ('and', 'CC'), ('hardware', 'NN'), ('.', '.'), ('It', 'PRP'), ('is', 'VBZ'), ('considered', 'VBN'), ('one', 'CD'), ('of', 'IN'), ('the', 'DT'), ('Big', 'NNP'), ('Five', 'NNP'), ('technology', 'NN'), ('companies', 'NNS'), ('in', 'IN'), ('the', 'DT'), ('U.S.', 'NNP'), ('information', 'NN'), ('technology', 'NN'), ('industry', 'NN'), (',', ','), ('alongside', 'RB'), ('Amazon', 'NNP'), (',', ','), ('Facebook', 'NNP'), (',', ','), ('Apple', 'NNP'), (',', ','), ('and', 'CC'), ('Microsoft', 'NNP'), ('.', '.')]\n",
      "(S\n",
      "  (NE Google/NNP)\n",
      "  ,/,\n",
      "  (NE LLC/NNP)\n",
      "  is/VBZ\n",
      "  an/DT\n",
      "  (NE American/JJ)\n",
      "  multinational/NN\n",
      "  technology/NN\n",
      "  company/NN\n",
      "  that/WDT\n",
      "  specializes/VBZ\n",
      "  in/IN\n",
      "  Internet-related/NNP\n",
      "  services/NNS\n",
      "  and/CC\n",
      "  products/NNS\n",
      "  ,/,\n",
      "  which/WDT\n",
      "  include/VBP\n",
      "  online/JJ\n",
      "  advertising/NN\n",
      "  technologies/NNS\n",
      "  ,/,\n",
      "  a/DT\n",
      "  search/NN\n",
      "  engine/NN\n",
      "  ,/,\n",
      "  cloud/NN\n",
      "  computing/NN\n",
      "  ,/,\n",
      "  software/NN\n",
      "  ,/,\n",
      "  and/CC\n",
      "  hardware/NN\n",
      "  ./.\n",
      "  It/PRP\n",
      "  is/VBZ\n",
      "  considered/VBN\n",
      "  one/CD\n",
      "  of/IN\n",
      "  the/DT\n",
      "  Big/NNP\n",
      "  Five/NNP\n",
      "  technology/NN\n",
      "  companies/NNS\n",
      "  in/IN\n",
      "  the/DT\n",
      "  (NE U.S./NNP)\n",
      "  information/NN\n",
      "  technology/NN\n",
      "  industry/NN\n",
      "  ,/,\n",
      "  alongside/RB\n",
      "  (NE Amazon/NNP)\n",
      "  ,/,\n",
      "  (NE Facebook/NNP)\n",
      "  ,/,\n",
      "  (NE Apple/NNP)\n",
      "  ,/,\n",
      "  and/CC\n",
      "  (NE Microsoft/NNP)\n",
      "  ./.)\n"
     ]
    }
   ],
   "source": [
    "txt = \"Google, LLC is an American multinational technology company that specializes in Internet-related services and products, which include online advertising technologies, a search engine, cloud computing, software, and hardware. It is considered one of the Big Five technology companies in the U.S. information technology industry, alongside Amazon, Facebook, Apple, and Microsoft.\"\n",
    "\n",
    "tokens_txt = word_tokenize(txt)\n",
    "tags_txt = pos_tag(tokens_txt)\n",
    "print(tags_txt)\n",
    "\n",
    "from nltk import ne_chunk\n",
    "\n",
    "namedEnt_txt = ne_chunk(tags_txt, binary = True) #przeszukiwanie pod kątem osób, miejsc itd...\n",
    "print(namedEnt_txt)"
   ]
  },
  {
   "cell_type": "markdown",
   "metadata": {},
   "source": [
    "Zadanie6: Znajdź wszystkie hiponimy i hiperonimy dla słowa $dog$. Zacznij od wyszukania synsetów dla tego słowa, wybierz pierwszy z nich."
   ]
  },
  {
   "cell_type": "code",
   "execution_count": 11,
   "metadata": {},
   "outputs": [
    {
     "name": "stdout",
     "output_type": "stream",
     "text": [
      "Synset('dog.n.01')\n",
      "1 synset dla 'dog': Synset('dog.n.01')\n",
      "Hiperonimy:\n",
      "- canine.n.02: any of various fissiped mammals with nonretractile claws and typically long muzzles\n",
      "- domestic_animal.n.01: any of various animals that have been tamed and made fit for a human environment\n",
      "Hiponimy:\n",
      "- corgi.n.01: either of two Welsh breeds of long-bodied short-legged dogs with erect ears and a fox-like head\n",
      "- dalmatian.n.02: a large breed having a smooth white coat with black or brown spots; originated in Dalmatia\n",
      "- leonberg.n.01: a large dog (usually with a golden coat) produced by crossing a St Bernard and a Newfoundland\n",
      "- cur.n.01: an inferior dog or one of mixed breed\n",
      "- pug.n.01: small compact smooth-coated breed of Asiatic origin having a tightly curled tail and broad flat wrinkled muzzle\n",
      "- lapdog.n.01: a dog small and tame enough to be held in the lap\n",
      "- pooch.n.01: informal terms for dogs\n",
      "- spitz.n.01: any of various stocky heavy-coated breeds of dogs native to northern regions having pointed muzzles and erect ears with a curled furry tail\n",
      "- basenji.n.01: small smooth-haired breed of African origin having a tightly curled tail and the inability to bark\n",
      "- griffon.n.02: breed of various very small compact wiry-coated dogs of Belgian origin having a short bearded muzzle\n",
      "- great_pyrenees.n.01: bred of large heavy-coated white dogs resembling the Newfoundland\n",
      "- working_dog.n.01: any of several breeds of usually large powerful dogs bred to work as draft animals and guard and guide dogs\n",
      "- poodle.n.01: an intelligent dog with a heavy curly solid-colored coat that is usually clipped; an old breed sometimes trained as sporting dogs or as performing dogs\n",
      "- toy_dog.n.01: any of several breeds of very small dogs kept purely as pets\n",
      "- mexican_hairless.n.01: any of an old breed of small nearly hairless dogs of Mexico\n",
      "- puppy.n.01: a young dog\n",
      "- hunting_dog.n.01: a dog used in hunting game\n",
      "- newfoundland.n.01: a breed of very large heavy dogs with a thick coarse usually black coat; highly intelligent dogs and vigorous swimmers; developed in Newfoundland\n"
     ]
    }
   ],
   "source": [
    "from nltk.corpus import wordnet as wn\n",
    "\n",
    "#synsety słowa dog\n",
    "dog_synsets = wn.synsets(\"dog\")\n",
    "\n",
    "# pierwszy sysntet to zwykle podstawowy\n",
    "dog_synset = dog_synsets[0]\n",
    "print(dog_synset)\n",
    "\n",
    "hypernyms = dog_synset.hypernyms()\n",
    "hyponyms = dog_synset.hyponyms()\n",
    "\n",
    "\n",
    "# Wyświetlamy wyniki\n",
    "print(f\"1 synset dla 'dog': {dog_synset}\")\n",
    "print(f\"Hiperonimy:\")\n",
    "for hyper in hypernyms: print(f\"- {hyper.name()}: {hyper.definition()}\")\n",
    "\n",
    "print(f\"Hiponimy:\")\n",
    "for hypo in hyponyms: print(f\"- {hypo.name()}: {hypo.definition()}\")"
   ]
  },
  {
   "cell_type": "markdown",
   "metadata": {},
   "source": [
    "<h4> Zadanie7: Znajdź synonimy i antonimy słowa $happy$."
   ]
  },
  {
   "cell_type": "code",
   "execution_count": null,
   "metadata": {},
   "outputs": [
    {
     "name": "stdout",
     "output_type": "stream",
     "text": [
      "['happy', 'felicitous', 'happy', 'glad', 'happy', 'happy', 'well-chosen']\n",
      "['unhappy']\n"
     ]
    }
   ],
   "source": [
    "synonyms = []\n",
    "for syn in wn.synsets('happy'):\n",
    "    for lemma in syn.lemmas(): \n",
    "        synonyms.append(lemma.name())\n",
    "print(synonyms)\n",
    "\n",
    "antonyms = []\n",
    "for syn in wn.synsets(\"happy\"):\n",
    "    for l in syn.lemmas():\n",
    "        if l.antonyms():\n",
    "            antonyms.append(l.antonyms()[0].name())\n",
    "print(antonyms)"
   ]
  },
  {
   "cell_type": "markdown",
   "metadata": {},
   "source": [
    "<h4> Zadanie8: Porównaj podobieństwo słów dog, cat i fish."
   ]
  },
  {
   "cell_type": "code",
   "execution_count": 13,
   "metadata": {},
   "outputs": [
    {
     "name": "stdout",
     "output_type": "stream",
     "text": [
      "Dog-fish: 0.75, \n",
      "Dog-cat: 0.8571428571428571, \n",
      "Fish-cat: 0.72\n"
     ]
    }
   ],
   "source": [
    "dog = wn.synsets('dog')[0]\n",
    "cat = wn.synsets('cat')[0]\n",
    "fish = wn.synsets('fish')[0]\n",
    "print(f\"Dog-fish: {dog.wup_similarity(fish)}, \\nDog-cat: {cat.wup_similarity(dog)}, \\nFish-cat: {cat.wup_similarity(fish)}\")"
   ]
  },
  {
   "cell_type": "markdown",
   "metadata": {},
   "source": [
    "<h4> Pytanie: Jak powstało \"aaa\"? Z kolei na liście wyżej brak \"aba\", dlaczego?"
   ]
  },
  {
   "cell_type": "code",
   "execution_count": 14,
   "metadata": {},
   "outputs": [
    {
     "data": {
      "text/plain": [
       "[['a', 'a', 'a'],\n",
       " ['a', 'a', 'b'],\n",
       " ['a', 'a'],\n",
       " ['a', 'b', 'a'],\n",
       " ['a', 'b', 'b'],\n",
       " ['a', 'b'],\n",
       " ['a'],\n",
       " ['b', 'a', 'a'],\n",
       " ['b', 'a', 'b'],\n",
       " ['b', 'a'],\n",
       " ['b', 'b', 'a'],\n",
       " ['b', 'b', 'b'],\n",
       " ['b', 'b'],\n",
       " ['b'],\n",
       " []]"
      ]
     },
     "execution_count": 14,
     "metadata": {},
     "output_type": "execute_result"
    }
   ],
   "source": [
    "#   \"aaa\" -> ostatnia litera \"a\" pochodzi z \"AW\" co odsyła nas do W gdzie jest pusty ciąg - zakończenie\n",
    "#   \"aba\" -> ostatnia litera \"a\" pochodiz z \"AS\" co odsyła nas do S gdzien nie ma pustego ciągu\n",
    "#   po dodaniu pustego ciągu w S, możemy wygenerować \"aba\":\n",
    "\n",
    "import nltk\n",
    "from nltk.grammar import CFG\n",
    "from nltk.parse.generate import generate\n",
    "grammar = nltk.CFG.fromstring(\"\"\"\n",
    "S -> A W | B S |\n",
    "W -> A S | B W |\n",
    "A -> 'a'\n",
    "B -> 'b'\n",
    "\"\"\")\n",
    "\n",
    "list(generate(grammar, depth = 5)) #depth = maksymalna glębokosc drzewa"
   ]
  },
  {
   "cell_type": "markdown",
   "metadata": {},
   "source": [
    "Zadanie9\n",
    "    \n",
    "- Z użyciem bibliotek spacy/nltk przeanalizuj teksty: Ogniem i mieczem oraz Tajemnicza wyspa. \n",
    "    \n",
    "- Jakie top 10 słów niebędących stopwordsami występuje w obu lekturach najczęściej (podaj częstość, można zwizualizować)\n",
    "    \n",
    "- Jakie top 10 tagów występuje w obu lekturach najczęściej (podaj częstości)\n",
    "    \n",
    "   \n",
    "    \n",
    "Link do lektur:\n",
    "    \n",
    "https://clarin-pl.eu/dspace/handle/11321/110\n",
    "    \n",
    "https://clarin-pl.eu/dspace/handle/11321/465"
   ]
  },
  {
   "cell_type": "code",
   "execution_count": 15,
   "metadata": {},
   "outputs": [],
   "source": [
    "import requests\n",
    "\n",
    "# Download txt from url\n",
    "def download_txt(url, filename, encoding):\n",
    "\n",
    "    # Download from link\n",
    "    response = requests.get(url)\n",
    "    response.encoding = 'utf-8'  # Ensure proper encoding for Polish characters\n",
    "    \n",
    "    # Save\n",
    "    with open(filename, \"w\", encoding=encoding) as file:\n",
    "        file.write(response.text)\n",
    "    \n",
    "    print(f\"Downloaded: {filename}\")"
   ]
  },
  {
   "cell_type": "code",
   "execution_count": 16,
   "metadata": {},
   "outputs": [],
   "source": [
    "from nltk import word_tokenize\n",
    "from nltk.probability import FreqDist\n",
    "import string\n",
    "import spacy \n",
    "from nltk.tag import pos_tag\n",
    "\n",
    "nlp = spacy.load(\"pl_core_news_sm\")\n",
    "stopwords = nlp.Defaults.stop_words\n",
    "\n",
    "# Tokenize, remove stopwords/punctuation, add tags and check frequency\n",
    "def freq_pure(text, encoding):\n",
    "\n",
    "    with open(text, \"r\", encoding=encoding) as file:\n",
    "        text = file.read()\n",
    "\n",
    "    text_tokenized = word_tokenize(text.lower())\n",
    "    print(f\"Text tokenized: {text_tokenized[:10]}\")\n",
    "    text_tokenized = [word for word in text_tokenized if word not in string.punctuation and word not in [\"...\" ,\"—\", \"”\", \"„\"]]\n",
    "    \n",
    "    #taggs before the removal of stopwords to avoid misclasification\n",
    "    tagged = nltk.pos_tag(text_tokenized)\n",
    "    print(f\"Text tagged: {tagged[:10]}\")\n",
    "\n",
    "    text_pure = [word for word in text_tokenized if word not in stopwords]\n",
    "    print(f\"Text purified: {text_pure[:10]}\")\n",
    "\n",
    "    freq_text = FreqDist(text_pure)\n",
    "    print(f\"Text frequency: {freq_text}\\n\")\n",
    "\n",
    "    return (freq_text, tagged)"
   ]
  },
  {
   "cell_type": "code",
   "execution_count": 17,
   "metadata": {},
   "outputs": [
    {
     "name": "stdout",
     "output_type": "stream",
     "text": [
      "Downloaded: ogniem-i-mieczem.txt\n",
      "Text tokenized: ['henryk', 'sienkiewicz', 'ogniem', 'i', 'mieczem', 'isbn', '978-83-288-2823-0', 'tom', 'i', 'rozdział']\n",
      "Text tagged: [('henryk', 'NN'), ('sienkiewicz', 'NN'), ('ogniem', 'NN'), ('i', 'NN'), ('mieczem', 'VBP'), ('isbn', 'JJ'), ('978-83-288-2823-0', 'CD'), ('tom', 'NN'), ('i', 'NN'), ('rozdział', 'VBP')]\n",
      "Text purified: ['henryk', 'sienkiewicz', 'ogniem', 'mieczem', 'isbn', '978-83-288-2823-0', 'tom', 'rozdział', 'rok', '1647']\n",
      "Text frequency: <FreqDist with 23422 samples and 72124 outcomes>\n",
      "\n",
      "Downloaded: wyspa-tajemnic.txt\n",
      "Text tokenized: ['juliusz', 'verne', 'tajemnicza', 'wyspa', 'tłum', '.', 'j.', 'pł', '.', 'isbn']\n",
      "Text tagged: [('juliusz', 'NN'), ('verne', 'NN'), ('tajemnicza', 'NN'), ('wyspa', 'NN'), ('tłum', 'NN'), ('j.', 'NN'), ('pł', 'NN'), ('isbn', 'JJ'), ('978-83-288-5599-1', 'JJ'), ('część', 'NN')]\n",
      "Text purified: ['juliusz', 'verne', 'tajemnicza', 'wyspa', 'tłum', 'j.', 'pł', 'isbn', '978-83-288-5599-1', 'część']\n",
      "Text frequency: <FreqDist with 12379 samples and 33666 outcomes>\n",
      "\n"
     ]
    }
   ],
   "source": [
    "# podany link mi nie działał, znalazłam alternatywny\n",
    "url1, url2= \"https://wolnelektury.pl/media/book/txt/ogniem-i-mieczem-tom-pierwszy.txt\", \"https://wolnelektury.pl/media/book/txt/verne-tajemnicza-wyspa-tom-ii.txt\"\n",
    "txt_filename = \"ogniem-i-mieczem.txt\"\n",
    "\n",
    "download_txt(url1, \"ogniem-i-mieczem.txt\", \"utf-8\")\n",
    "freq_ogniem, taggs_ogniem  = freq_pure(\"ogniem-i-mieczem.txt\", \"utf-8\")\n",
    "\n",
    "download_txt(url2, \"wyspa-tajemnic.txt\", \"utf-8\")\n",
    "freq_wyspa, taggs_wyspa = freq_pure(\"wyspa-tajemnic.txt\", \"utf-8\")"
   ]
  },
  {
   "cell_type": "code",
   "execution_count": 18,
   "metadata": {},
   "outputs": [],
   "source": [
    "#find most common from 2 lists\n",
    "def most_common(list1, list2):\n",
    "    dict1 = dict(list1)\n",
    "    dict2 = dict(list2)\n",
    "\n",
    "    most_common = {}\n",
    "    for word in dict1:\n",
    "        if word in dict2:\n",
    "            most_common[word] = (dict1[word], dict2[word], dict1[word]+dict2[word])\n",
    "    print(\"List structure:             (word, freq_list1, freq_list2, freq_sum)\")\n",
    "    print(f\"Unsorted most common:       {most_common}\")\n",
    "\n",
    "    #posortowanie ze wzgledu na sumę częstotliwości\n",
    "    #x[1] - wartosci słownika, x[2] - suma frequences (3 wartość klucza)\n",
    "    sorted_items = sorted(most_common.items(), key=lambda x: x[1][2], reverse=True)\n",
    "    print(f\"Sorted by sum:         {sorted_items}[:10]\")"
   ]
  },
  {
   "cell_type": "code",
   "execution_count": 19,
   "metadata": {},
   "outputs": [
    {
     "name": "stdout",
     "output_type": "stream",
     "text": [
      "Most common words:\n",
      "List structure:             (word, freq_list1, freq_list2, freq_sum)\n",
      "Unsorted most common:       {'oczy': (145, 17, 162), 'zaraz': (142, 9, 151), 'chwili': (133, 55, 188), 'dalej': (118, 61, 179), 'ludzi': (116, 23, 139), 'mógł': (111, 42, 153), 'tymczasem': (109, 27, 136), 'nagle': (107, 36, 143), 'potem': (105, 23, 128), 'mówił': (102, 14, 116), 'ręce': (97, 21, 118), 'czym': (84, 37, 121), 'chciał': (83, 30, 113), 'siebie': (81, 23, 104), 'naprzód': (80, 9, 89), '…': (73, 32, 105), 'ludzie': (70, 11, 81), 'dopiero': (66, 14, 80), 'twarz': (65, 7, 72), 'którą': (64, 41, 105), 'głowy': (64, 6, 70), 'całej': (64, 18, 82), 'wiem': (62, 9, 71), 'koniec': (60, 17, 77), 'widać': (60, 24, 84), 'noc': (59, 35, 94), 'głos': (58, 7, 65), 'człowiek': (57, 25, 82), 'spytał': (57, 15, 72), 'wiedział': (55, 8, 63), 'czas': (55, 39, 94), 'czego': (55, 28, 83), 'twarzy': (54, 6, 60), 'dzień': (53, 26, 79), 'nikt': (51, 14, 65), 'strony': (51, 20, 71), 'swego': (51, 12, 63), 'długo': (51, 16, 67), 'jutro': (51, 9, 60), 'ręku': (50, 6, 56), 'panu': (50, 23, 73), 'choćby': (50, 6, 56), 'drodze': (49, 11, 60), 'całą': (49, 28, 77), 'tyle': (48, 13, 61), 'tysięcy': (48, 15, 63), 'wreszcie': (47, 37, 84), 'całe': (46, 18, 64), 'stał': (46, 17, 63), 'panie': (46, 86, 132), 'stronę': (46, 23, 69), 'piersi': (45, 10, 55), 'cóż': (44, 24, 68), 'słowa': (44, 32, 76), 'drogę': (43, 35, 78), 'rękę': (43, 9, 52), 'czasu': (43, 54, 97), 'stało': (43, 26, 69), 'nocy': (42, 13, 55), 'widocznie': (42, 11, 53), 'chwilę': (42, 14, 56), 'pierwszy': (41, 28, 69), 'drugi': (41, 15, 56), 'swoich': (41, 20, 61), 'swoim': (41, 11, 52), 'chyba': (40, 17, 57), 'swoją': (40, 20, 60), 'istotnie': (40, 18, 58), 'dwóch': (39, 22, 61), 'musiał': (39, 19, 58), 'trzy': (38, 37, 75), 'list': (38, 8, 46), 'wody': (37, 29, 66), 'głosem': (37, 9, 46), 'domu': (37, 9, 46), 'zawołał': (37, 104, 141), 'dni': (37, 45, 82), 'wówczas': (36, 24, 60), 'odpowiedział': (36, 55, 91), 'górę': (36, 15, 51), 'inaczej': (36, 10, 46), 'ziemi': (35, 17, 52), 'dał': (35, 8, 43), 'świecie': (35, 10, 45), 'pewnie': (35, 9, 44), 'wraz': (35, 9, 44), 'trochę': (35, 20, 55), 'rozdział': (34, 20, 54), 'rzeki': (34, 84, 118), 'brzegu': (34, 60, 94), 'podniósł': (34, 8, 42), 'drogi': (34, 29, 63), 'widok': (34, 21, 55), 'wkrótce': (33, 45, 78), 'zupełnie': (33, 33, 66), 'zamiast': (33, 13, 46), 'myślał': (33, 7, 40), 'zdawało': (33, 21, 54), 'zresztą': (32, 41, 73), 'jednego': (32, 13, 45), 'razem': (32, 27, 59), 'lepiej': (32, 20, 52), 'przyjdzie': (32, 7, 39), 'stanie': (32, 23, 55), 'słońce': (31, 6, 37), 'dnia': (31, 53, 84), 'odparł': (31, 210, 241), 'później': (31, 40, 71), 'myśli': (31, 6, 37), 'mogli': (31, 34, 65), 'życie': (30, 10, 40), 'jakieś': (30, 37, 67), 'innego': (30, 9, 39), 'wodę': (30, 8, 38), 'mieli': (30, 40, 70), 'ogień': (30, 22, 52), 'prędzej': (30, 8, 38), 'nowe': (30, 11, 41), 'nogi': (30, 6, 36), 'ziemię': (29, 17, 46), 'rzecz': (29, 6, 35), 'szedł': (29, 6, 35), 'prawda': (29, 9, 38), 'mogła': (28, 12, 40), 'razu': (28, 7, 35), 'myśl': (28, 7, 35), 'sami': (28, 6, 34), 'następnie': (27, 26, 53), 'chociaż': (27, 21, 48), 'wziął': (27, 16, 43), 'spokojnie': (27, 12, 39), 'tysiące': (27, 6, 33), 'obu': (27, 7, 34), 'życia': (26, 10, 36), 'rzeczywiście': (26, 43, 69), 'czasie': (26, 29, 55), 'głową': (26, 6, 32), 'zwłaszcza': (26, 13, 39), 'takim': (26, 20, 46), 'wielkiej': (26, 12, 38), 'przerwał': (26, 6, 32), 'drzwi': (26, 17, 43), 'miała': (26, 24, 50), 'woli': (26, 6, 32), 'dzikie': (25, 6, 31), 'jednej': (25, 26, 51), 'miejscu': (25, 26, 51), 'samo': (25, 26, 51), 'nikogo': (25, 7, 32), 'swych': (25, 6, 31), 'mogło': (24, 11, 35), 'takiego': (24, 13, 37), 'rąk': (24, 8, 32), 'lasy': (24, 9, 33), 'samym': (24, 16, 40), 'wielką': (23, 15, 38), 'zwykle': (23, 7, 30), 'ręką': (23, 7, 30), 'miejsca': (23, 24, 47), 'mieć': (23, 16, 39), 'całym': (22, 6, 28), 'ognia': (22, 12, 34), 'mruknął': (22, 7, 29), 'wprawdzie': (22, 6, 28), 'chcąc': (22, 11, 33), 'dotąd': (22, 11, 33), 'obaj': (22, 6, 28), 'swej': (22, 6, 28), 'drugiej': (22, 12, 34), 'wcale': (21, 17, 38), 'ziemia': (21, 6, 27), 'zarazem': (21, 6, 27), 'góry': (21, 24, 45), 'zaczął': (21, 24, 45), 'ust': (21, 6, 27), 'swojej': (21, 11, 32), 'pół': (21, 19, 40), 'zbyt': (21, 20, 41), 'jedną': (21, 7, 28), 'byłby': (21, 9, 30), 'postanowił': (21, 15, 36), 'rzeczy': (20, 8, 28), 'lat': (20, 22, 42), 'mając': (20, 10, 30), 'którymi': (20, 8, 28), 'końcu': (20, 17, 37), 'prócz': (20, 10, 30), 'trudno': (20, 17, 37), 'stały': (20, 6, 26), 'czuł': (20, 8, 28), 'rzucił': (20, 13, 33), 'brzeg': (20, 45, 65), 'dziki': (19, 9, 28), 'wiatr': (19, 31, 50), 'samego': (19, 25, 44), 'nowo': (19, 13, 32), 'ręki': (19, 6, 25), 'bądź': (19, 13, 32), 'wiadomo': (19, 7, 26), 'siłę': (19, 7, 26), 'oka': (19, 6, 25), 'wszystkiego': (19, 9, 28), 'ruszyli': (18, 9, 27), 'taką': (18, 10, 28), 'takiej': (18, 9, 27), 'powietrze': (18, 6, 24), 'chętnie': (18, 8, 26), 'znacznie': (18, 11, 29), 'ciągle': (18, 8, 26), 'jaką': (18, 7, 25), 'radości': (18, 6, 24), 'muszę': (18, 6, 24), 'wielkie': (17, 14, 31), 'nieraz': (17, 9, 26), 'mówiąc': (17, 16, 33), 'moją': (17, 6, 23), 'dobry': (17, 12, 29), 'blisko': (17, 13, 30), 'świata': (17, 6, 23), 'część': (17, 30, 47), 'dala': (17, 8, 25), 'zaledwie': (17, 11, 28), 'cztery': (17, 14, 31), 'znalazł': (17, 12, 29), 'mogły': (17, 12, 29), 'brzegi': (16, 9, 25), 'zdawał': (16, 8, 24), 'wzrok': (16, 13, 29), 'skoro': (16, 21, 37), 'żywo': (16, 6, 22), 'dawna': (16, 12, 28), 'wodą': (16, 16, 32), 'nazajutrz': (16, 17, 33), 'okiem': (16, 6, 22), 'całkiem': (16, 23, 39), 'trzech': (16, 16, 32), 'pomocy': (16, 8, 24), 'szybko': (16, 21, 37), 'niczego': (16, 27, 43), 'wieczorem': (16, 15, 31), 'pewno': (15, 13, 28), 'innymi': (15, 9, 24), 'stron': (15, 9, 24), 'pole': (15, 8, 23), 'tymi': (15, 7, 22), 'sprawy': (15, 6, 21), 'ostatni': (15, 7, 22), 'któremu': (15, 9, 24), 'powiedzieć': (15, 12, 27), 'oko': (15, 7, 22), 'wielkich': (15, 6, 21), 'godzinę': (15, 6, 21), 'robić': (15, 8, 23), 'tabor': (15, 54, 69), 'ostatnie': (14, 10, 24), 'razy': (14, 10, 24), 'drugą': (14, 6, 20), 'drogą': (14, 7, 21), 'ciągnął': (14, 21, 35), 'morze': (14, 42, 56), 'podobne': (14, 6, 20), 'życiu': (14, 8, 22), 'zrobił': (14, 10, 24), 'samych': (13, 7, 20), 'miały': (13, 16, 29), 'niebo': (13, 12, 25), 'poszedł': (13, 7, 20), 'dodał': (13, 24, 37), 'proszę': (13, 10, 23), 'szukać': (13, 6, 19), 'podróży': (13, 12, 25), 'miejsce': (13, 16, 29), 'gromady': (13, 10, 23), 'przynajmniej': (13, 20, 33), 'miało': (13, 11, 24), 'ojczyzny': (13, 9, 22), 'mocno': (12, 15, 27), 'niedaleko': (12, 7, 19), 'mniej': (12, 22, 34), 'dobre': (12, 7, 19), 'trzymać': (12, 6, 18), 'powiedział': (12, 150, 162), 'każdym': (12, 24, 36), 'szczęście': (12, 13, 25), 'położył': (12, 6, 18), 'ręka': (12, 7, 19), 'jednocześnie': (12, 7, 19), 'druga': (12, 8, 20), 'zostać': (12, 10, 22)}\n",
      "Sorted by sum:         [('odparł', (31, 210, 241)), ('chwili', (133, 55, 188)), ('dalej', (118, 61, 179)), ('oczy', (145, 17, 162)), ('powiedział', (12, 150, 162)), ('mógł', (111, 42, 153)), ('zaraz', (142, 9, 151)), ('nagle', (107, 36, 143)), ('zawołał', (37, 104, 141)), ('ludzi', (116, 23, 139)), ('tymczasem', (109, 27, 136)), ('panie', (46, 86, 132)), ('potem', (105, 23, 128)), ('czym', (84, 37, 121)), ('ręce', (97, 21, 118)), ('rzeki', (34, 84, 118)), ('mówił', (102, 14, 116)), ('chciał', (83, 30, 113)), ('…', (73, 32, 105)), ('którą', (64, 41, 105)), ('siebie', (81, 23, 104)), ('czasu', (43, 54, 97)), ('noc', (59, 35, 94)), ('czas', (55, 39, 94)), ('brzegu', (34, 60, 94)), ('odpowiedział', (36, 55, 91)), ('naprzód', (80, 9, 89)), ('widać', (60, 24, 84)), ('wreszcie', (47, 37, 84)), ('dnia', (31, 53, 84)), ('czego', (55, 28, 83)), ('całej', (64, 18, 82)), ('człowiek', (57, 25, 82)), ('dni', (37, 45, 82)), ('ludzie', (70, 11, 81)), ('dopiero', (66, 14, 80)), ('dzień', (53, 26, 79)), ('drogę', (43, 35, 78)), ('wkrótce', (33, 45, 78)), ('koniec', (60, 17, 77)), ('całą', (49, 28, 77)), ('słowa', (44, 32, 76)), ('trzy', (38, 37, 75)), ('panu', (50, 23, 73)), ('zresztą', (32, 41, 73)), ('twarz', (65, 7, 72)), ('spytał', (57, 15, 72)), ('wiem', (62, 9, 71)), ('strony', (51, 20, 71)), ('później', (31, 40, 71)), ('głowy', (64, 6, 70)), ('mieli', (30, 40, 70)), ('stronę', (46, 23, 69)), ('stało', (43, 26, 69)), ('pierwszy', (41, 28, 69)), ('rzeczywiście', (26, 43, 69)), ('tabor', (15, 54, 69)), ('cóż', (44, 24, 68)), ('długo', (51, 16, 67)), ('jakieś', (30, 37, 67)), ('wody', (37, 29, 66)), ('zupełnie', (33, 33, 66)), ('głos', (58, 7, 65)), ('nikt', (51, 14, 65)), ('mogli', (31, 34, 65)), ('brzeg', (20, 45, 65)), ('całe', (46, 18, 64)), ('wiedział', (55, 8, 63)), ('swego', (51, 12, 63)), ('tysięcy', (48, 15, 63)), ('stał', (46, 17, 63)), ('drogi', (34, 29, 63)), ('tyle', (48, 13, 61)), ('swoich', (41, 20, 61)), ('dwóch', (39, 22, 61)), ('twarzy', (54, 6, 60)), ('jutro', (51, 9, 60)), ('drodze', (49, 11, 60)), ('swoją', (40, 20, 60)), ('wówczas', (36, 24, 60)), ('razem', (32, 27, 59)), ('istotnie', (40, 18, 58)), ('musiał', (39, 19, 58)), ('chyba', (40, 17, 57)), ('ręku', (50, 6, 56)), ('choćby', (50, 6, 56)), ('chwilę', (42, 14, 56)), ('drugi', (41, 15, 56)), ('morze', (14, 42, 56)), ('piersi', (45, 10, 55)), ('nocy', (42, 13, 55)), ('trochę', (35, 20, 55)), ('widok', (34, 21, 55)), ('stanie', (32, 23, 55)), ('czasie', (26, 29, 55)), ('rozdział', (34, 20, 54)), ('zdawało', (33, 21, 54)), ('widocznie', (42, 11, 53)), ('następnie', (27, 26, 53)), ('rękę', (43, 9, 52)), ('swoim', (41, 11, 52)), ('ziemi', (35, 17, 52)), ('lepiej', (32, 20, 52)), ('ogień', (30, 22, 52)), ('górę', (36, 15, 51)), ('jednej', (25, 26, 51)), ('miejscu', (25, 26, 51)), ('samo', (25, 26, 51)), ('miała', (26, 24, 50)), ('wiatr', (19, 31, 50)), ('chociaż', (27, 21, 48)), ('miejsca', (23, 24, 47)), ('część', (17, 30, 47)), ('list', (38, 8, 46)), ('głosem', (37, 9, 46)), ('domu', (37, 9, 46)), ('inaczej', (36, 10, 46)), ('zamiast', (33, 13, 46)), ('ziemię', (29, 17, 46)), ('takim', (26, 20, 46)), ('świecie', (35, 10, 45)), ('jednego', (32, 13, 45)), ('góry', (21, 24, 45)), ('zaczął', (21, 24, 45)), ('pewnie', (35, 9, 44)), ('wraz', (35, 9, 44)), ('samego', (19, 25, 44)), ('dał', (35, 8, 43)), ('wziął', (27, 16, 43)), ('drzwi', (26, 17, 43)), ('niczego', (16, 27, 43)), ('podniósł', (34, 8, 42)), ('lat', (20, 22, 42)), ('nowe', (30, 11, 41)), ('zbyt', (21, 20, 41)), ('myślał', (33, 7, 40)), ('życie', (30, 10, 40)), ('mogła', (28, 12, 40)), ('samym', (24, 16, 40)), ('pół', (21, 19, 40)), ('przyjdzie', (32, 7, 39)), ('innego', (30, 9, 39)), ('spokojnie', (27, 12, 39)), ('zwłaszcza', (26, 13, 39)), ('mieć', (23, 16, 39)), ('całkiem', (16, 23, 39)), ('wodę', (30, 8, 38)), ('prędzej', (30, 8, 38)), ('prawda', (29, 9, 38)), ('wielkiej', (26, 12, 38)), ('wielką', (23, 15, 38)), ('wcale', (21, 17, 38)), ('słońce', (31, 6, 37)), ('myśli', (31, 6, 37)), ('takiego', (24, 13, 37)), ('końcu', (20, 17, 37)), ('trudno', (20, 17, 37)), ('skoro', (16, 21, 37)), ('szybko', (16, 21, 37)), ('dodał', (13, 24, 37)), ('nogi', (30, 6, 36)), ('życia', (26, 10, 36)), ('postanowił', (21, 15, 36)), ('każdym', (12, 24, 36)), ('rzecz', (29, 6, 35)), ('szedł', (29, 6, 35)), ('razu', (28, 7, 35)), ('myśl', (28, 7, 35)), ('mogło', (24, 11, 35)), ('ciągnął', (14, 21, 35)), ('sami', (28, 6, 34)), ('obu', (27, 7, 34)), ('ognia', (22, 12, 34)), ('drugiej', (22, 12, 34)), ('mniej', (12, 22, 34)), ('tysiące', (27, 6, 33)), ('lasy', (24, 9, 33)), ('chcąc', (22, 11, 33)), ('dotąd', (22, 11, 33)), ('rzucił', (20, 13, 33)), ('mówiąc', (17, 16, 33)), ('nazajutrz', (16, 17, 33)), ('przynajmniej', (13, 20, 33)), ('głową', (26, 6, 32)), ('przerwał', (26, 6, 32)), ('woli', (26, 6, 32)), ('nikogo', (25, 7, 32)), ('rąk', (24, 8, 32)), ('swojej', (21, 11, 32)), ('nowo', (19, 13, 32)), ('bądź', (19, 13, 32)), ('wodą', (16, 16, 32)), ('trzech', (16, 16, 32)), ('dzikie', (25, 6, 31)), ('swych', (25, 6, 31)), ('wielkie', (17, 14, 31)), ('cztery', (17, 14, 31)), ('wieczorem', (16, 15, 31)), ('zwykle', (23, 7, 30)), ('ręką', (23, 7, 30)), ('byłby', (21, 9, 30)), ('mając', (20, 10, 30)), ('prócz', (20, 10, 30)), ('blisko', (17, 13, 30)), ('mruknął', (22, 7, 29)), ('znacznie', (18, 11, 29)), ('dobry', (17, 12, 29)), ('znalazł', (17, 12, 29)), ('mogły', (17, 12, 29)), ('wzrok', (16, 13, 29)), ('miały', (13, 16, 29)), ('miejsce', (13, 16, 29)), ('całym', (22, 6, 28)), ('wprawdzie', (22, 6, 28)), ('obaj', (22, 6, 28)), ('swej', (22, 6, 28)), ('jedną', (21, 7, 28)), ('rzeczy', (20, 8, 28)), ('którymi', (20, 8, 28)), ('czuł', (20, 8, 28)), ('dziki', (19, 9, 28)), ('wszystkiego', (19, 9, 28)), ('taką', (18, 10, 28)), ('zaledwie', (17, 11, 28)), ('dawna', (16, 12, 28)), ('pewno', (15, 13, 28)), ('ziemia', (21, 6, 27)), ('zarazem', (21, 6, 27)), ('ust', (21, 6, 27)), ('ruszyli', (18, 9, 27)), ('takiej', (18, 9, 27)), ('powiedzieć', (15, 12, 27)), ('mocno', (12, 15, 27)), ('stały', (20, 6, 26)), ('wiadomo', (19, 7, 26)), ('siłę', (19, 7, 26)), ('chętnie', (18, 8, 26)), ('ciągle', (18, 8, 26)), ('nieraz', (17, 9, 26)), ('ręki', (19, 6, 25)), ('oka', (19, 6, 25)), ('jaką', (18, 7, 25)), ('dala', (17, 8, 25)), ('brzegi', (16, 9, 25)), ('niebo', (13, 12, 25)), ('podróży', (13, 12, 25)), ('szczęście', (12, 13, 25)), ('powietrze', (18, 6, 24)), ('radości', (18, 6, 24)), ('muszę', (18, 6, 24)), ('zdawał', (16, 8, 24)), ('pomocy', (16, 8, 24)), ('innymi', (15, 9, 24)), ('stron', (15, 9, 24)), ('któremu', (15, 9, 24)), ('ostatnie', (14, 10, 24)), ('razy', (14, 10, 24)), ('zrobił', (14, 10, 24)), ('miało', (13, 11, 24)), ('moją', (17, 6, 23)), ('świata', (17, 6, 23)), ('pole', (15, 8, 23)), ('robić', (15, 8, 23)), ('proszę', (13, 10, 23)), ('gromady', (13, 10, 23)), ('żywo', (16, 6, 22)), ('okiem', (16, 6, 22)), ('tymi', (15, 7, 22)), ('ostatni', (15, 7, 22)), ('oko', (15, 7, 22)), ('życiu', (14, 8, 22)), ('ojczyzny', (13, 9, 22)), ('zostać', (12, 10, 22)), ('sprawy', (15, 6, 21)), ('wielkich', (15, 6, 21)), ('godzinę', (15, 6, 21)), ('drogą', (14, 7, 21)), ('drugą', (14, 6, 20)), ('podobne', (14, 6, 20)), ('samych', (13, 7, 20)), ('poszedł', (13, 7, 20)), ('druga', (12, 8, 20)), ('szukać', (13, 6, 19)), ('niedaleko', (12, 7, 19)), ('dobre', (12, 7, 19)), ('ręka', (12, 7, 19)), ('jednocześnie', (12, 7, 19)), ('trzymać', (12, 6, 18)), ('położył', (12, 6, 18))][:10]\n",
      "\n",
      "Most common tags:\n",
      "List structure:             (word, freq_list1, freq_list2, freq_sum)\n",
      "Unsorted most common:       {'NN': (81828, 37236, 119064), 'JJ': (12025, 5559, 17584), 'VBP': (6781, 2504, 9285), 'VB': (5180, 2719, 7899), 'NNP': (4102, 2156, 6258), 'TO': (3254, 1598, 4852), 'IN': (2217, 735, 2952), 'DT': (1614, 493, 2107), 'FW': (1073, 413, 1486), 'VBD': (975, 389, 1364), 'VBZ': (785, 337, 1122), 'RB': (602, 332, 934), 'NNS': (365, 152, 517), 'WRB': (196, 85, 281), 'CD': (150, 238, 388), 'VBN': (116, 44, 160), 'CC': (110, 69, 179), 'PRP': (104, 27, 131), 'PRP$': (76, 8, 84), 'JJS': (68, 48, 116), 'MD': (57, 54, 111), 'JJR': (31, 56, 87), ':': (26, 2, 28), 'WP': (25, 6, 31), 'PDT': (25, 5, 30), 'RP': (14, 7, 21), 'RBS': (5, 16, 21), 'WDT': (2, 2, 4), '$': (1, 12, 13)}\n",
      "Sorted by sum:         [('NN', (81828, 37236, 119064)), ('JJ', (12025, 5559, 17584)), ('VBP', (6781, 2504, 9285)), ('VB', (5180, 2719, 7899)), ('NNP', (4102, 2156, 6258)), ('TO', (3254, 1598, 4852)), ('IN', (2217, 735, 2952)), ('DT', (1614, 493, 2107)), ('FW', (1073, 413, 1486)), ('VBD', (975, 389, 1364)), ('VBZ', (785, 337, 1122)), ('RB', (602, 332, 934)), ('NNS', (365, 152, 517)), ('CD', (150, 238, 388)), ('WRB', (196, 85, 281)), ('CC', (110, 69, 179)), ('VBN', (116, 44, 160)), ('PRP', (104, 27, 131)), ('JJS', (68, 48, 116)), ('MD', (57, 54, 111)), ('JJR', (31, 56, 87)), ('PRP$', (76, 8, 84)), ('WP', (25, 6, 31)), ('PDT', (25, 5, 30)), (':', (26, 2, 28)), ('RP', (14, 7, 21)), ('RBS', (5, 16, 21)), ('$', (1, 12, 13)), ('WDT', (2, 2, 4))][:10]\n"
     ]
    }
   ],
   "source": [
    "print(\"Most common words:\")\n",
    "most_common(freq_ogniem.most_common()[:1000], freq_wyspa.most_common()[:1000])\n",
    "\n",
    "print(\"\\nMost common tags:\")\n",
    "ogniem_tags_only =[tag for word, tag in taggs_ogniem]\n",
    "wyspa_tags_only =[tag for word, tag in taggs_wyspa]\n",
    "\n",
    "most_common(FreqDist(ogniem_tags_only).most_common(100), FreqDist(wyspa_tags_only).most_common(100))"
   ]
  },
  {
   "cell_type": "markdown",
   "metadata": {},
   "source": [
    "Zadanie10: Wejdź na dowolną listę przebojów (np. https://www.rmfmaxx.pl/hopbec) a następnie pobierz teksty piosenek z kolejnych pozycji. \n",
    "\n",
    "- Zamień wszystkie wyrazy na rozpoczynające się z małej litery. \n",
    "- Dokonaj tokenizacji. \n",
    "- Wyznacz miarę Herdana dla każdego z tekstów.\n",
    "- Narysuj zależność pomiędzy zajmowanym na liście miejscem a miarą Herdana. Wyznacz współczynnik korelacji. Czy występuje jakaś tendencja?"
   ]
  },
  {
   "cell_type": "code",
   "execution_count": 46,
   "metadata": {},
   "outputs": [],
   "source": [
    "import requests\n",
    "from bs4 import BeautifulSoup\n",
    "\n",
    "def download_songs_rmfmaxx():\n",
    "    url = \"https://www.rmfmaxx.pl/hopbec\"\n",
    "    response = requests.get(url)\n",
    "    soup = BeautifulSoup(response.text, \"html.parser\")\n",
    "    \n",
    "    songs = []\n",
    "    song_list = soup.find(\"div\", class_=\"list-songs\")\n",
    "    if song_list:\n",
    "        for place in song_list.find_all(\"div\", class_=\"row my-4 song-row\"):\n",
    "            author_elem = place.find(\"div\", class_=\"song-artists\")\n",
    "            title_elem = place.find(\"a\", class_=\"song-title\")\n",
    "            posit_elem = place.find(\"span\", class_=\"t-element-position mx-rounded bg-primary py-2 px-3 fw-bold\")\n",
    "            if author_elem and title_elem:\n",
    "                author = author_elem.text.strip()\n",
    "                title = title_elem.text.strip()\n",
    "                posit = posit_elem.text.strip()\n",
    "                songs.append((author, title, posit))\n",
    "    return songs\n",
    "\n",
    "def lyrics_download(author, title):\n",
    "    url = f\"https://www.tekstowo.pl/piosenka,{author},{title}.html\"\n",
    "    try:\n",
    "        response = requests.get(url)\n",
    "        soup = BeautifulSoup(response.text, \"html.parser\")\n",
    "        lyrics = soup.find(\"div\", class_=\"song-text\").text.strip()\n",
    "        return lyrics\n",
    "    except:\n",
    "        print(f\"Failed to find {title} by {author}.\")\n",
    "\n",
    "songs = download_songs_rmfmaxx()"
   ]
  },
  {
   "cell_type": "code",
   "execution_count": null,
   "metadata": {},
   "outputs": [
    {
     "name": "stdout",
     "output_type": "stream",
     "text": [
      "['Chrystal', 'Tate_McRae', 'Tymek', 'Kygo', 'Felix_Jaehn', 'Dawid_Podsiadło', 'Sonny_Fodera', 'Alex_Warren', 'LAVINIA', 'LISA', 'Pezet', 'GOMBAO_33', 'Fat_Tony', 'Sobel', 'Gracie_Abrams', 'Steve_Aoki', 'Zerb', 'Sabrina_Carpenter', 'Alan_Walker', 'Lady_Gaga', 'Kuban', 'Anyma', 'Oskar_Cyms', 'R3hab', 'Gibbs', 'Armin_van_Buuren', 'Alok', 'Lola_Young', 'twocolors', 'ROSÉ']\n",
      "['The_Days', 'Sports_Car', 'Sophia_Loren', 'Chasing_Paradise', 'Walk_With_Me', 'Pięknie_płyniesz', 'Tell_Me', 'Burning_Down', 'K.O.', 'Born_Again', 'Dom_nad_wodą', 'Nienawidzę_być_w_klubie', 'Dancing_In_The_Moonlight', 'KOCHASZ?', \"That's_So_True\", 'My_Life', 'Location', 'Busy_Woman', 'Dancing_in_Love', 'Abracadabra', 'Zanim_spadnie_deszcz', 'Hypnotized', 'Co_noc', 'Rebellion', 'Pod_prąd', 'Euphoria', 'last_night_i_dreamt_i_fell_in_love', 'Messy', 'UMS', 'toxic_till_the_end']\n",
      "Failed to find Chasing_Paradise by Kygo.\n",
      "Failed to find Walk_With_Me by Felix_Jaehn.\n",
      "Failed to find Tell_Me by Sonny_Fodera.\n",
      "Failed to find K.O. by LAVINIA.\n",
      "Failed to find Born_Again by LISA.\n",
      "Failed to find Dancing_In_The_Moonlight by Fat_Tony.\n",
      "Failed to find KOCHASZ? by Sobel.\n",
      "Failed to find That's_So_True by Gracie_Abrams.\n",
      "Failed to find My_Life by Steve_Aoki.\n",
      "Failed to find Location by Zerb.\n",
      "Failed to find Dancing_in_Love by Alan_Walker.\n",
      "Failed to find Zanim_spadnie_deszcz by Kuban.\n",
      "Failed to find Hypnotized by Anyma.\n",
      "Failed to find Rebellion by R3hab.\n",
      "Failed to find Pod_prąd by Gibbs.\n",
      "Failed to find Euphoria by Armin_van_Buuren.\n",
      "Failed to find last_night_i_dreamt_i_fell_in_love by Alok.\n",
      "Failed to find UMS by twocolors.\n",
      "Failed to find toxic_till_the_end by ROSÉ.\n",
      "30\n"
     ]
    }
   ],
   "source": [
    "#title, author cleaning\n",
    "\n",
    "authors = [author.replace(\" \", \"_\") for author, title, pos in songs]\n",
    "for aut in range(len(authors)):\n",
    "    if \"/\" in authors[aut]:\n",
    "        authors[aut]=authors[aut][:authors[aut].find(\"/\")-1]\n",
    "print(authors)\n",
    "\n",
    "titles = [title.replace(\" \", \"_\") for author, title, pos in songs]\n",
    "for tit in range(len(titles)):\n",
    "    if \"(\" in titles[tit]:\n",
    "        titles[tit]=titles[tit][:titles[tit].find(\"(\")-1]\n",
    "print(titles)\n",
    "\n",
    "temp = list(zip(authors, titles))\n",
    "\n",
    "lyrics = []\n",
    "\n",
    "for author, title in temp:\n",
    "    lyrics.append(lyrics_download(author, title))\n",
    "\n",
    "print(len(lyrics))"
   ]
  },
  {
   "cell_type": "code",
   "execution_count": null,
   "metadata": {},
   "outputs": [
    {
     "name": "stdout",
     "output_type": "stream",
     "text": [
      "[['tekst', 'piosenki', ':', 'do', 'you', 'think', 'about', 'the', 'days', 'when', 'we', 'sat', 'down', 'smoking', ',', 'wine', 'and', 'drinking', 'haze', 'or', '?', 'was', 'it', 'the', 'other', 'way', '?', 'was', 'it', 'the', 'other', 'way', '?', 'swing', 'around', ',', 'come', 'on', ',', 'chill', 'with', 'me', 'i', 'got', 'your', 'favorite', 'show', 'recorded', 'on', 'my', 'tv', ',', 'but', 'we', 'do', \"n't\", 'have', 'to', 'watch', 'that', ',', 'no', 'i', \"'ll\", 'turn', 'off', 'the', 'radio', 'so', 'wo', \"n't\", 'you', 'pick', 'up', '?', 'then', 'we', 'can', 'link', 'up', 'it', \"'s\", 'not', 'a', 'hookup', 'do', \"n't\", 'think', 'about', 'it', 'too', 'much', ',', 'too', 'much', 'you', 'just', 'need', 'to', 'pick', 'up', 'then', 'we', 'can', 'link', 'up', 'do', \"n't\", 'think', 'about', 'it', 'too', 'much', ',', 'too', 'much', 'do', 'you', ',', 'do', 'you', '?', 'do-do-do', 'you', ',', 'do', 'you', '?', 'do', 'you', ',', 'do', 'you', '?', 'do-do-do', 'you', ',', 'do', 'you', '?', 'do', 'you', ',', 'do', 'you', '?', 'do-do-do', 'you', ',', 'do', 'you', '?', 'do', 'you', ',', 'do', 'you', '?', 'do-do-do', 'you', ',', 'do', 'you', '?', 'do', 'you', ',', 'do', 'you', '?', 'do-do-do', 'you', ',', 'do', 'you', '?', 'do', 'you', ',', 'do', 'you', '?', 'do-do-do', 'you', ',', 'do', 'you', '?', 'do', 'you', 'think', 'about', 'the', 'days', 'when', 'we', 'sat', 'down', 'smoking', ',', 'wine', 'and', 'drinking', 'haze', 'or', '?', 'was', 'it', 'the', 'other', 'way', '?', 'was', 'it', 'the', 'other', 'way', '?', 'swing', 'around', ',', 'come', 'on', ',', 'chill', 'with', 'me', 'i', 'got', 'your', 'favorite', 'show', 'recorded', 'on', 'my', 'tv', ',', 'but', 'we', 'do', \"n't\", 'have', 'to', 'watch', 'that', ',', 'no', 'i', \"'ll\", 'turn', 'off', 'the', 'radio', 'dodaj', 'adnotację', 'do', 'tego', 'tekstu', '»', 'historia', 'edycji', 'tekstu'], ['tekst', 'piosenki', ':', 'hey', ',', 'cute', 'jeans', 'take', 'mine', 'off', 'me', 'oh', ',', 'golly', 'gee', 'i', 'ca', \"n't\", 'take', 'no', 'more', 'i', \"'m\", 'going', 'weak', 'in', 'my', 'knees', 'where', \"'d\", 'you', 'put', 'those', 'keys', '?', 'we', 'can', 'share', 'one', 'seat', 'we', 'can', 'share', 'one', 'seat', 'in', 'the', 'alley', 'in', 'the', 'back', 'in', 'the', 'center', 'of', 'this', 'room', 'with', 'the', 'windows', 'rolled', 'down', 'boy', ',', 'do', \"n't\", 'make', 'me', 'choose', 'in', 'the', 'alley', 'in', 'the', 'back', 'in', 'the', 'center', 'of', 'this', 'room', 'with', 'the', 'windows', 'rolled', 'down', 'boy', ',', 'do', \"n't\", 'make', 'me', 'choose', 'i', 'think', 'you', 'know', 'what', 'this', 'is', 'i', 'think', 'you', 'wan', 'na', ',', 'uh', 'no', ',', 'you', 'ai', \"n't\", 'got', 'no', 'mrs', 'oh', ',', 'but', 'you', 'got', 'a', 'sports', 'car', 'we', 'can', 'uh-uh', 'in', 'it', 'while', 'you', 'drive', 'it', 'real', 'far', 'yeah', ',', 'you', 'know', 'what', 'this', 'is', 'yeah', ',', 'you', 'know', 'what', 'this', 'is', 'pretty', 'blue', 'street', 'lights', 'and', 'my', 'hazel', 'eyes', 'and', 'if', 'it', 'feels', 'right', 'we', 'could', 'go', 'again', 'like', 'three', ',', 'four', 'times', 'so', 'my', 'type', 'got', 'butterflies', 'so', 'good', 'it', 'hurts', 'thinking', \"'bout\", 'what', 'we', 'did', 'before', 'this', 'verse', 'on', 'the', 'corner', 'of', 'my', 'bed', 'oh', ',', 'and', 'maybe', 'on', 'the', 'beach', 'you', 'could', 'do', 'it', 'on', 'your', 'own', 'while', 'you', \"'re\", 'looking', 'at', 'me', 'i', 'think', 'you', 'know', 'what', 'this', 'is', 'i', 'think', 'you', 'wan', 'na', ',', 'uh', 'no', ',', 'you', 'ai', \"n't\", 'got', 'no', 'mrs', 'oh', ',', 'but', 'you', 'got', 'a', 'sports', 'car', 'we', 'can', 'uh-uh', 'in', 'it', 'while', 'you', 'drive', 'it', 'real', 'far', 'yeah', ',', 'you', 'know', 'what', 'this', 'is', 'yeah', ',', 'you', 'know', 'what', 'this', 'is', 'i', 'think', 'you', 'know', 'what', 'this', 'is', 'i', 'think', 'you', 'want', 'a', 'ride', 'no', ',', 'you', 'ai', \"n't\", 'got', 'no', 'mrs', 'oh', ',', 'but', 'you', 'got', 'a', 'sports', 'car', 'we', 'can', 'uh-uh', 'in', 'it', 'while', 'you', 'drive', 'it', 'real', 'far', 'yeah', ',', 'you', 'know', 'what', 'this', 'is', 'yeah', ',', 'you', 'know', 'what', 'this', 'is', 'oh', 'my', 'guy-uy', 'you', 'do', \"n't\", 'wan', 'na', 'waste', 'my', 'time-ime', 'let', \"'s\", 'go', 'ride-ide', 'let', \"'s\", 'go', 'ride-ide-ide', 'oh', ',', 'my', 'guy-uy', 'you', 'do', \"n't\", 'wan', 'na', 'waste', 'my', 'time-ime', 'let', \"'s\", 'go', 'ride-ide', 'let', \"'s\", 'go', 'ride-ide-ide', 'i', 'think', 'you', 'wan', 'na', ',', 'wan', 'na', 'but', 'you', 'got', 'a', 'sports', 'car', 'while', 'you', 'drive', 'it', 'real', 'far', 'yeah', ',', 'you', 'know', 'what', 'this', 'is', 'dodaj', 'adnotację', 'do', 'tego', 'tekstu', '»', 'historia', 'edycji', 'tekstu'], ['tekst', 'piosenki', ':', '[', 'intro', ']', 'okej', '(', 'okej', ',', 'okej', ',', 'okej', ')', '[', 'zwrotka', ']', 'piszę', 'ten', 'sztos', ',', 'sztos', 'ubieram', 'głos', 'na', 'sobie', 'mam', 'stylowy', 'dres', 'wygodny', 'obuw', 'chciałbym', 'spędzić', 'z', 'nią', 'dzień', ',', 'noc', 'bo', 'ona', 'jest', 'wow', 'mówię', 'ci', 'wow', 'wow', '(', 'wow', 'wow', ')', 'piszę', 'ten', 'sztos', ',', 'sztos', 'ubieram', 'głos', 'na', 'sobie', 'mam', 'stylowy', 'dres', 'wygodny', 'obuw', 'chciałbym', 'spędzić', 'z', 'nią', 'dzień', ',', 'noc', 'bo', 'ona', 'jest', 'wow', 'mówię', 'ci', 'wow', 'wow', '(', 'mówię', 'ci', 'wow', 'wow', ')', '[', 'refren', ']', 'hipnotyzuje', 'wzrokiem', ',', 'okej', 'ona', 'to', 'diva', 'jak', 'sophia', 'loren', 'w', 'oczach', 'błyszczy', 'ten', 'płomień', ',', 'płomień', 'ona', 'to', 'diva', 'jak', 'sophia', 'loren', '(', 'sophia', ')', 'hipnotyzuje', 'wzrokiem', ',', 'okej', 'ona', 'to', 'diva', 'jak', 'sophia', 'loren', 'w', 'oczach', 'błyszczy', 'ten', 'płomień', ',', 'płomień', 'ona', 'to', 'diva', 'jak', 'sophia', 'loren', '(', 'sophia', ')', '[', 'bridge', ']', 'powstrzymuje', 'bezdech', 'fortuna', 'się', 'kręci', ',', 'kręci', 'stylówa', 'jak', 'bentley', 'pomieszczenia', 'fancy', ',', 'fancy', 'tak', 'smakują', 'błędy', ',', 'toasty', 'i', 'kreski', ',', 'kreski', 'mnie', 'już', 'to', 'niе', 'kręci', 'to', 'już', 'nawet', 'nie', 'jest', 'sеxy', 'powstrzymuje', 'bezdech', 'fortuna', 'się', 'kręci', ',', 'kręci', 'stylówa', 'jak', 'bentley', 'pomieszczenia', 'fancy', ',', 'fancy', 'tak', 'smakują', 'błędy', ',', 'toasty', 'i', 'kreski', ',', 'kreski', 'mnie', 'już', 'to', 'nie', 'kręci', 'to', 'już', 'nawet', 'nie', 'jest', 'sexy', 'okej', '(', 'okej', ',', 'okej', ',', 'okej', ')', 'okej', '(', 'okej', ',', 'okej', ',', 'okej', ')', '[', 'refren', ']', '(', 'hipnotyzuje', 'wzrokiem', ',', 'okej', 'ona', 'to', 'diva', 'jak', 'sophia', 'loren', ')', 'w', 'oczach', 'błyszczy', 'ten', 'płomień', ',', 'płomień', 'ona', 'to', 'diva', 'jak', 'sophia', 'loren', '(', 'sophia', ')', 'hipnotyzuje', 'wzrokiem', ',', 'okej', 'ona', 'to', 'diva', 'jak', 'sophia', 'loren', 'w', 'oczach', 'błyszczy', 'ten', 'płomień', ',', 'płomień', 'ona', 'to', 'diva', 'jak', 'sophia', 'loren', '(', 'sophia', ')', 'hipnotyzuje', 'wzrokiem', ',', 'okej', 'ona', 'to', 'diva', 'jak', 'sophia', 'loren', 'w', 'oczach', 'błyszczy', 'ten', 'płomień', ',', 'płomień', 'ona', 'to', 'diva', 'jak', 'sophia', 'loren', '(', 'sophia', ')', 'hipnotyzuje', 'wzrokiem', ',', 'okej', 'ona', 'to', 'diva', 'jak', 'sophia', 'loren', 'w', 'oczach', 'błyszczy', 'ten', 'płomień', ',', 'płomień', 'ona', 'to', 'diva', 'jak', 'sophia', 'loren', '(', 'sophia', ')', 'dodaj', 'adnotację', 'do', 'tego', 'tekstu', '»', 'historia', 'edycji', 'tekstu'], ['tekst', 'piosenki', ':', 'na', 'dno', 'na', 'dnie', 'na', 'pewno', 'znajdziesz', 'mnie', 'i', 'trochę', 'tu', 'postoję', 'i', 'wcale', 'nie', 'odbiję', 'się', 'na', 'stos', 'ogień', 'wypali', 'ze', 'mnie', 'grzech', 'i', 'trochę', 'mu', 'pomogę', 'gdzie', 'się', 'trzymam', 'opowiem', '[', 'refren', ']', 'pięknie', 'żyjesz', 'choć', 'kłody', 'pod', 'nogami', 'masz', 'to', 'wszystko', 'minie', 'i', 'minę', 'jak', 'ta', 'kłoda', 'też', 'znaczymy', 'tyle', 'że', 'siły', 'tylko', 'by', 'się', 'śmiać', 'ty', 'pięknie', 'płyniesz', 'a', 'ja', 'tu', 'tylko', 'tkwię', 'przez', 'noc', 'przez', 'dzień', 'przez', 'chwilę', 'albo', 'dwie', 'wmawiałem', 'tyle', 'sobie', 'wierzyłem', 'w', 'tę', 'opowieść', 'mam', 'coś', 'ty', 'też', 'lubi', 'przyciągać', 'się', 'za', 'długi', 'mamy', 'moment', 'ciekawe', 'ile', 'jeszcze', 'zniosę', '[', 'refren', ']', 'pięknie', 'żyjesz', 'choć', 'kłody', 'pod', 'nogami', 'masz', 'to', 'wszystko', 'minie', 'i', 'minę', 'jak', 'ta', 'kłoda', 'też', 'znaczymy', 'tyle', 'że', 'siły', 'tylko', 'by', 'się', 'śmiać', 'ty', 'pięknie', 'płyniesz', 'a', 'ja', 'tu', 'tylko', 'tkwię', 'długo', 'długo', 'sobie', 'śniłem', 'długie', 'noce', 'późno', 'lecz', 'się', 'obudziłem', 'dobry', 'losie', '[', 'refren', ']', 'pięknie', 'żyję', 'choć', 'kłody', 'pod', 'nogami', 'mam', 'to', 'wszystko', 'minie', 'i', 'miniesz', 'jak', 'ta', 'kłoda', 'też', 'znaczymy', 'tyle', 'że', 'siły', 'tylko', 'by', 'się', 'śmiać', 'przepięknie', 'płynę', 'a', 'ciągle', 'w', 'miejscu', 'tkwię', 'dodaj', 'adnotację', 'do', 'tego', 'tekstu', '»', 'historia', 'edycji', 'tekstu'], ['tekst', 'piosenki', ':', '[', 'verse', '1', ']', 'i', 'guess', 'you', 'never', 'know', 'someone', 'you', 'think', 'you', 'know', 'ca', \"n't\", 'see', 'the', 'knife', 'when', 'you', \"'re\", 'too', 'close', ',', 'too', 'close', 'it', 'scars', 'forever', 'when', 'someone', 'you', 'called', 'a', 'friend', 'shows', 'you', 'the', 'truth', 'can', 'be', 'so', 'cold', ',', 'so', 'cold', '[', 'pre-chorus', ']', 'i', \"'d\", 'wipe', 'the', 'dirt', 'of', 'your', 'name', 'with', 'the', 'shirt', 'off', 'my', 'back', 'i', 'thought', 'that', 'you', \"'d\", 'do', 'the', 'same', 'but', 'you', 'did', \"n't\", 'do', 'that', '(', 'yeah', ')', '[', 'chorus', ']', 'said', 'i', \"'m\", 'the', 'one', 'who', \"'s\", 'wanted', 'for', 'all', 'the', 'fires', 'you', 'started', 'you', 'knew', 'the', 'house', 'was', 'burning', 'down', 'i', 'had', 'to', 'get', 'out', 'you', 'led', 'your', 'saints', 'and', 'sinners', 'and', 'fed', \"'em\", 'lies', 'for', 'dinnеr', 'you', 'knew', 'the', 'house', 'was', 'burning', 'down', 'and', 'look', 'at', 'you', 'now', '[', 'post-chorus', ']', '(', 'ooh-ooh', ',', 'ooh-ooh', ',', 'ooh-ooh', ')', '(', 'ooh-ooh', ',', 'ooh-ooh', ',', 'ooh-ooh', ')', 'and', 'look', 'at', 'you', 'now', '[', 'verse', '2', ']', 'how', 'do', 'you', 'sleep', 'at', 'night', '?', 'no', 'onе', 'to', 'hide', 'behind', 'betrayed', 'every', 'alibi', 'you', 'had', ',', 'you', 'had', 'you', 'had', 'every', 'chance', 'to', 'make', 'amends', 'instead', ',', 'you', 'got', 'drunk', 'on', 'bitterness', 'and', 'you', 'still', 'claim', 'that', 'you', \"'re\", 'innocent', ',', 'it', \"'s\", 'sad', 'that', 'you', '[', 'chorus', ']', 'said', 'i', \"'m\", 'the', 'one', 'who', \"'s\", 'wanted', 'for', 'all', 'the', 'fires', 'you', 'started', 'you', 'knew', 'the', 'house', 'was', 'burning', 'down', 'i', 'had', 'to', 'get', 'out', 'you', 'led', 'your', 'saints', 'and', 'sinners', 'and', 'fed', \"'em\", 'lies', 'for', 'dinner', 'you', 'knew', 'the', 'house', 'was', 'burning', 'down', '(', 'and', 'look', 'at', 'you', 'now', ')', '[', 'bridge', ']', 'used', 'to', 'tell', 'me', 'you', \"'d\", 'pray', 'for', 'me', 'you', 'were', 'praying', 'for', 'my', 'downfall', 'you', 'were', 'digging', 'a', 'grave', 'for', 'me', 'we', 'were', 'sharing', 'the', 'same', 'four', 'walls', 'used', 'to', 'tell', 'me', 'you', \"'d\", 'pray', 'for', 'me', 'you', 'were', 'praying', 'for', 'my', 'downfall', 'you', 'were', 'digging', 'a', 'grave', 'for', 'me', 'we', 'were', 'sharing', 'the', 'same', 'four', 'walls', 'and', 'you', '[', 'chorus', ']', 'said', 'i', \"'m\", 'the', 'one', 'who', \"'s\", 'wanted', 'for', 'all', 'the', 'fires', 'you', 'started', 'you', 'knew', 'the', 'house', 'was', 'burning', 'down', 'i', 'had', 'to', 'get', 'out', 'you', 'led', 'your', 'saints', 'and', 'sinners', 'and', 'fed', \"'em\", 'lies', 'for', 'dinner', 'you', 'knew', 'the', 'house', 'was', 'burning', 'down', '(', 'and', 'look', 'at', 'you', 'now', ')', '[', 'outro', ']', 'used', 'to', 'tell', 'me', 'you', \"'d\", 'pray', 'for', 'me', '(', 'pray', 'for', 'me', ')', 'you', 'were', 'praying', 'for', 'my', 'downfall', '(', 'for', 'my', 'downfall', ')', 'you', 'were', 'digging', 'a', 'grave', 'for', 'me', 'we', 'were', 'sharing', 'the', 'same', 'four', 'walls', 'used', 'to', 'tell', 'me', 'you', \"'d\", 'pray', 'for', 'me', 'you', 'were', 'praying', 'for', 'my', 'downfall', 'you', 'were', 'digging', 'a', 'grave', 'for', 'me', 'we', 'were', 'sharing', 'the', 'same', 'four', 'walls', 'and', 'you', 'dodaj', 'adnotację', 'do', 'tego', 'tekstu', '»', 'historia', 'edycji', 'tekstu'], ['tekst', 'piosenki', ':', 'lukam', 'sobie', 'tu', 'przez', 'szybę', 'samochodu', 'na', 'przystanek', 'tam', 'na', 'rogu', 'gdzie', 'spędzałem', 'czas', 'za', 'młodu', 'tam', 'przestałem', 'ufać', 'bogu', 'siedzieliśmy', 'tam', 'bez', 'celu', 'całą', 'noc', 'i', 'dzień', '24', 'jak', 'na', 'dołku', 'bez', 'powodów', 'i', 'dowodów', 'za', 'to', 'że', 'mam', 'łeb', 'na', 'zero', 'tyle', 'samo', 'mam', 'w', 'portfelu', 'na', 'osiedlu', 'bez', 'tarasów', 'i', 'ogrodów', 'lecz', 'już', 'wtedy', 'czekaliśmy', 'na', 'coś', 'więcej', 'niż', 'autobus', 'dzisiaj', 'pezet', 'to', 'jest', 'produkt', ',', 'to', 'brand', 'name', 'jest', 'jak', 'pepsi', 'choć', 'nie', 'jestem', 'wciąż', 'rentierem', 'jak', 'gatsby', 'rzucam', 'towar', 'w', 'teren', 'jakbym', 'był', 'meyerem', 'lanskym', 'i', 'to', 'stało', 'się', 'popkulturowym', 'dziełem', 'jak', 'banksy', 'i', 'to', 'nie', 'sen', 'ona', 'ma', 'czarne', 'louboutin', 'i', 'jest', 'sztuką', 'jakby', 'malował', 'ją', 'gauguin', 'jemy', 'śniadanie', 'jakby', 'gotował', 'nam', 'bourdain', 'bo', 'to', 'jest', 'życie', 'o', 'którym', 'każdy', 'kłamie', 'na', 'instagramie', 'złamiemy', 'łóżko', 'nim', 'złamiemy', 'sobie', 'serca', 'a', 'ona', 'leży', 'teraz', 'na', 'stole', 'jak', 'oferta', 'i', 'wszystko', 'mi', 'mówi', 'że', 'moglibyśmy', 'dziś', 'mieć', 'wszystko', 'lecz', 'obudziłem', 'się', 'z', 'myślą', 'że', 'nam', 'znowu', 'coś', 'nie', 'wyszło', 'a', 'wczoraj', 'miałem', 'taki', 'sen', 'że', 'mam', 'nad', 'wodą', 'dom', 'śpiewają', 'ptaki', 'w', 'tle', 'jestem', 'tam', 'z', 'tobą', 'stąd', ',', 'słuchając', 'fal', 'czerwone', 'wisi', 'słońce', 'i', 'nie', 'lata', 'dron', 'niebieskie', 'niebo', 'całkiem', 'dobrze', 'widzę', 'stąd', ',', 'i', 'nie', 'jest', 'szare', 'śniłem', 'że', 'jesteśmy', 'gdzieś', 'daleko', 'stąd', 'a', 'to', 'co', 'czuje', 'to', 'też', 'wcale', 'nie', 'jest', 'błąd', ',', 'i', 'nie', 'jest', 'żalem', 'i', 'budzę', 'się', 'i', 'znów', 'cię', 'tutaj', 'nie', 'ma', 'ze', 'mną', 'a', 'chciałem', 'tylko', 'żebyś', 'była', 'ze', 'mną', ',', 'na', 'stałe', 'i', 'nie', 'ma', 'cię', ',', 'ale', 'jest', 'badgirl', 'jak', 'riri', 'szybka', 'jak', 'rari', ',', 'robi', 'co', 'mówię', 'jak', 'siri', 'wąska', 'w', 'tali', ',', 'ciało', 'jak', 'butelka', 'coli', 'a', 'ja', 'kupuję', 'działkę', 'jakbyśmy', 'grali', 'w', 'monopoly', 'piję', 'kawkę', ',', 'ona', 'whisky', 'sour', 'na', 'niebie', 'golden', 'hour', 'zawijam', 'ją', 'jak', 'maki', 'w', 'nori', 'jej', 'ciemne', 'okulary', 'zasłaniają', 'oczy', 'jakby', 'chciała', 'ukryć', 'to', 'co', 'zrobiliśmy', 'w', 'nocy', 'ona', 'tańczy', ',', 'ja', 'patrzę', 'jakbym', 'siedział', 'w', 'jury', 'potem', 'po', 'tym', 'daje', 'jej', 'wysokie', 'noty', 'a', 'szczegóły', 'są', 'pikantne', 'coś', 'jak', 'piri', 'piri', 'motel', ',', 'hotel', ',', 'tylne', 'siedzenie', 'toyoty', 'myślę', 'o', 'tym', 'żeby', 'będąc', 'starym', 'umrzeć', 'młodo', 'wiele', 'razy', 'zaczynałem', 'coś', 'na', 'nowo', 'i', 'nie', 'skończyć', 'jak', 'milioner', 'w', 'pustej', 'willi', 'nie', 'ma', 'nic', 'gorszego', 'niż', 'samotne', 'polskie', 'zimy', 'a', 'wczoraj', 'miałem', 'taki', 'sen', 'że', 'mam', 'nad', 'wodą', 'dom', 'śpiewają', 'ptaki', 'w', 'tle', 'jestem', 'tam', 'z', 'tobą', 'stąd', ',', 'słuchając', 'fal', 'czerwone', 'wisi', 'słońce', 'i', 'nie', 'lata', 'dron', 'niebieskie', 'niebo', 'całkiem', 'dobrze', 'widzę', 'stąd', ',', 'i', 'nie', 'jest', 'szare', 'śniłem', 'że', 'jesteśmy', 'gdzieś', 'daleko', 'stąd', 'a', 'to', 'co', 'czuje', 'to', 'też', 'wcale', 'nie', 'jest', 'błąd', ',', 'i', 'nie', 'jest', 'żalem', 'i', 'budzę', 'się', 'i', 'znów', 'cię', 'tutaj', 'nie', 'ma', 'ze', 'mną', 'a', 'chciałem', 'tylko', 'żebyś', 'była', 'ze', 'mną', ',', 'na', 'stałe', 'dodaj', 'adnotację', 'do', 'tego', 'tekstu', '»', 'historia', 'edycji', 'tekstu'], ['tekst', 'piosenki', ':', '[', 'refren', ':', 'mata', ']', 'za', 'każdym', 'razem', ',', 'kiedy', 'cię', 'widzę', 'chcę', 'być', 'przed', 'ołtarzem', ',', 'ale', 'między', 'nami', 'dj', '(', 'mhm', ')', 'nienawidzę', 'być', 'w', 'klubie', ',', 'mała', 'pokaż', 'mi', 'wyjście', 'z', 'tobą', 'się', 'zgubię', 'dziś', ',', 'no', 'i', 'w', 'końcu', 'się', 'wyśpię', 'szukamy', 'miłości', 'w', 'beznadziejnym', 'miejscu', ',', 'znowu', 'na', 'mieście', '(', 'znowu', 'na', 'mieście', ')', 'kiedyś', 'cię', 'znajdę', ',', 'ale', 'tańczę', 'teraz', 'w', 'niebie', 'pod', 'piekłem', 'co', 'z', 'nami', 'będzie', 'kiedy', 'już', 'znajdziemy', 'się', 'na', 'zakręcie', '?', 'tego', 'wiedzieć', 'nie', 'chcę', ',', 'znowu', 'rzucasz', 'na', 'mnie', 'swoje', 'zaklęcie', '[', 'zwrotka', '1', ':', 'mata', ']', 'g-wagon', 'i', 'bentley', 'na', 'podjeździe', 'do', 'potęgi', 'entej', 'ją', 'pieprzę', 'to', 'jest', 'niepojęte', ',', 'że', 'jeszcze', 'chce', 'rzucam', 'na', 'pętle', 'jak', 'nutkę', 'ją', 'myśli', 'natrętne', 'więc', 'wódkę', 'mam', 'znowu', 'odetnę', ',', 'w', 'tym', 'urwę', 'stan', 'ujebania', 'w', 'chuj', ',', 'jak', 'go', 'dobrze', 'znam', '[', 'zwrotka', '2', ':', 'tadeo', ',', 'mata', ']', 'nie', 'słyszę', 'co', 'mówisz', '(', 'nie', 'słyszę', 'co', 'mówisz', ')', 'mała', 'podejdź', 'bliżej', '(', 'mała', 'podejdź', 'bliżej', ')', 'za', 'dużo', 'tu', 'ludzi', '(', 'za', 'dużo', 'tu', 'ludzi', ')', 'chodźmy', 'gdzie', 'indziej', 'widzę', 'że', 'się', 'nudzisz', ',', 'sama', 'stoisz', 'z', 'drinkiem', '(', 'cały', 'dzień', ')', 'chce', 'cię', 'obudzić', ',', 'rano', 'pocałunkiem', '(', 'haa', ')', '[', 'refren', ':', 'mata', ']', 'za', 'każdym', 'razem', ',', 'kiedy', 'cię', 'widzę', 'chcę', 'być', 'przed', 'ołtarzem', ',', 'ale', 'między', 'nami', 'dj', '(', 'mhm', ')', 'nienawidzę', 'być', 'w', 'klubie', ',', 'mała', 'pokaż', 'mi', 'wyjście', 'z', 'tobą', 'się', 'zgubię', 'dziś', ',', 'no', 'i', 'w', 'końcu', 'się', 'wyśpię', 'szukamy', 'miłości', 'w', 'beznadziejnym', 'miejscu', ',', 'znowu', 'na', 'mieście', '(', 'znowu', 'na', 'mieście', ')', 'kiedyś', 'cię', 'znajdę', ',', 'ale', 'tańczę', 'teraz', 'w', 'niebie', 'pod', 'piekłem', 'co', 'z', 'nami', 'będzie', 'kiedy', 'już', 'znajdziemy', 'się', 'na', 'zakręcie', '?', 'tego', 'wiedzieć', 'nie', 'chcę', ',', 'znowu', 'rzucasz', 'na', 'mnie', 'swoje', 'zaklęcie', '[', 'zwrotka', '3', ':', 'wyguś', ']', 'znowu', 'zamawiam', 'pod', 'blokiem', 'ubera', 'black', 'od', 'chłopaka', 'nie', 'odbiera', 'przez', 'całą', 'noc', 'w', 'klubie', 'jest', 'dziś', 'cały', 'skład', ',', 'na', 'backstage', \"'\", 'u', 'tłok', 'a', 'ciebie', 'tu', 'dalej', 'nie', 'ma', ',', 'no', 'chodź', '(', 'ooo', ')', '[', 'zwrotka', '4', ':', 'szczepan', ']', 'ona', 'widzi', 'sens', 'tylko', 'w', 'pustych', 'słowach', 'zostaw', 'mnie', ',', 'wróć', 'do', 'mnie', ',', 'bipolar', 'nie', 'mogę', 'być', 'w', 'tym', 'klubie', ',', 'muszę', 'zmienić', 'lokal', 'miało', 'cię', 'tu', 'nie', 'być', ',', 'a', 'wszystko', 'od', 'nowa', '[', 'refren', ':', 'mata', ']', 'za', 'każdym', 'razem', ',', 'kiedy', 'cię', 'widzę', 'chcę', 'być', 'przed', 'ołtarzem', ',', 'ale', 'między', 'nami', 'dj', '(', 'mhm', ')', 'nienawidzę', 'być', 'w', 'klubie', ',', 'mała', 'pokaż', 'mi', 'wyjście', 'nienawidzę', 'być', 'w', 'klubie', 'za', 'każdym', 'razem', 'dodaj', 'adnotację', 'do', 'tego', 'tekstu', '»', 'historia', 'edycji', 'tekstu'], ['tekst', 'piosenki', ':', '[', 'verse', '1', ']', 'i', \"'m\", 'so', 'mature', ',', 'collected', ',', 'and', 'sensible', 'except', 'when', 'i', 'get', 'hit', 'with', 'rejection', 'to', 'turn', 'me', 'down', ',', 'well', ',', 'that', \"'s\", 'just', 'unethical', 'i', \"'ll\", 'turn', 'into', 'someone', 'you', \"'re\", 'scared', 'to', 'know', '[', 'chorus', ']', 'but', 'if', 'you', 'need', 'my', 'love', 'my', 'clothes', 'are', 'off', ',', 'i', \"'m\", 'coming', 'over', 'to', 'your', 'place', 'and', 'if', 'you', 'do', \"n't\", 'need', '(', 'if', 'you', 'do', \"n't\", 'need', ')', 'my', 'love', 'well', ',', 'i', 'did', \"n't\", 'want', 'your', 'little', 'bitch-ass', 'anyway', 'yeah', ',', 'i', \"'m\", 'a', 'busy', 'woman', 'i', 'would', \"n't\", 'let', 'you', 'come', 'into', 'my', 'calendar', 'any', 'night', 'but', 'if', 'you', 'want', 'my', 'kisses', ',', 'i', \"'ll\", 'be', 'your', 'perfect', 'missus', \"'til\", 'the', 'day', 'that', 'one', 'of', 'us', 'dies', '[', 'verse', '2', ']', 'so', 'much', 'to', 'shave', 'and', 'lipstick', 'to', 'reapply', 'maybe', 'for', 'you', ',', 'though', ',', 'i', 'could', 'accommodate', 'i', \"'m\", 'flexible', ',', 'so', 'just', 'tell', 'me', 'what', 'you', 'like', 'tantric', 'yoga', ',', 'baby', ',', 'namaste', 'if', 'you', 'do', \"n't\", 'want', 'me', ',', 'i', \"'ll\", 'just', 'deem', 'you', 'gay', '[', 'chorus', ']', 'but', 'if', 'you', 'need', 'my', 'love', 'my', 'clothes', 'are', 'off', ',', 'i', \"'m\", 'coming', 'over', 'to', 'your', 'place', '(', 'ah-ah-ah-ah', ')', 'and', 'if', 'you', 'do', \"n't\", 'need', '(', 'if', 'you', 'do', \"n't\", 'need', ')', 'my', 'love', 'well', ',', 'i', 'did', \"n't\", 'want', 'your', 'little', 'bitch-ass', 'anyway', 'yeah', ',', 'i', \"'m\", 'a', 'busy', 'woman', 'i', 'would', \"n't\", 'let', 'you', 'come', 'into', 'my', 'calendar', 'any', 'night', 'but', 'if', 'you', 'want', 'my', 'kisses', ',', 'i', \"'ll\", 'be', 'your', 'perfect', 'missus', \"'til\", 'the', 'day', 'that', 'one', 'of', 'us', 'dies', '[', 'bridge', ']', 'busy', 'woman', ',', 'all', 'the', 'time', 'busy', 'woman', 'for', 'the', 'rest', 'of', 'my', 'life', 'my', 'openings', 'are', 'super', 'tight', 'busy', 'woman', ',', 'unless', 'you', 'call', 'at', 'night', 'right', ',', 'ooh-ooh-ooh-ooh', '[', 'chorus', ']', 'but', 'if', 'you', 'need', 'my', 'love', 'my', 'clothes', 'are', 'off', ',', 'i', \"'m\", 'coming', 'over', 'to', 'your', 'place', '(', 'ah-ah-ah-ah', ')', 'and', 'if', 'you', 'do', \"n't\", 'need', '(', 'if', 'you', 'do', \"n't\", 'need', ')', 'my', 'love', 'well', ',', 'i', 'did', \"n't\", 'want', 'your', 'little', 'bitch-ass', 'anyway', \"'cause\", 'i', \"'m\", 'a', 'busy', 'woman', '(', 'oh', ',', 'hey', ')', 'i', 'would', \"n't\", 'let', 'you', 'come', 'into', 'my', 'calendar', 'any', 'night', 'but', 'if', 'you', 'want', 'my', 'kisses', ',', 'i', \"'ll\", 'be', 'your', 'perfect', 'missus', '(', 'ooh-ooh', ')', \"'til\", 'the', 'day', 'that', 'one', 'of', 'us', 'dies', 'dodaj', 'adnotację', 'do', 'tego', 'tekstu', '»', 'historia', 'edycji', 'tekstu'], ['tekst', 'piosenki', ':', 'abracadabra', ',', 'abracadabra', 'abracadabra', ',', 'abracadabra', 'abracadabra', ',', 'abracadabra', 'pay', 'the', 'toll', 'to', 'the', 'angels', 'drawing', 'circles', 'in', 'the', 'clouds', 'keep', 'your', 'mind', 'on', 'the', 'distance', 'when', 'the', 'devil', 'turns', 'around', 'hold', 'me', 'in', 'your', 'heart', 'tonight', 'in', 'the', 'magic', 'of', 'the', 'dark', 'moonlight', 'save', 'me', 'from', 'this', 'empty', 'fight', 'in', 'the', 'game', 'of', 'life', 'like', 'a', 'poem', 'said', 'by', 'a', 'lady', 'in', 'red', 'you', 'hear', 'the', 'last', 'few', 'words', 'of', 'your', 'life', 'with', 'a', 'haunting', 'dance', ',', 'now', 'you', \"'re\", 'both', 'in', 'a', 'trance', 'it', \"'s\", 'time', 'to', 'cast', 'your', 'spell', 'on', 'the', 'night', 'abracadabra', ',', 'amor-oo-na-na', 'abracadabra', ',', 'morta-ooh-ga-ga', 'abracadabra', ',', 'abra-oo-na-na', 'in', 'her', 'tongue', 'she', 'said', '``', 'death', 'or', 'love', 'tonight', \"''\", 'abracadabra', ',', 'abracadabra', 'abracadabra', ',', 'abracadabra', 'feel', 'the', 'beat', 'under', 'your', 'feet', ',', 'thе', 'floor', \"'s\", 'on', 'fire', 'abracadabra', ',', 'abracadabra', 'choose', 'the', 'road', 'on', 'thе', 'west', 'side', 'as', 'the', 'dust', 'flies', ',', 'watch', 'it', 'burn', 'do', \"n't\", 'waste', 'time', 'on', 'a', 'feeling', 'use', 'your', 'passion', ',', 'no', 'return', 'hold', 'me', 'in', 'your', 'heart', 'tonight', 'in', 'the', 'magic', 'of', 'the', 'dark', 'moonlight', 'save', 'me', 'from', 'this', 'empty', 'fight', 'in', 'the', 'game', 'of', 'life', 'like', 'a', 'poem', 'said', 'by', 'a', 'lady', 'in', 'red', 'you', 'hear', 'the', 'last', 'few', 'words', 'of', 'your', 'life', 'with', 'a', 'haunting', 'dance', ',', 'now', 'you', \"'re\", 'both', 'in', 'a', 'trance', 'it', \"'s\", 'time', 'to', 'cast', 'your', 'spell', 'on', 'the', 'night', 'abracadabra', ',', 'amor-oo-na-na', 'abracadabra', ',', 'morta-ooh-ga-ga', 'abracadabra', ',', 'abra-oo-na-na', 'in', 'her', 'tongue', 'she', 'said', '``', 'death', 'or', 'love', 'tonight', \"''\", 'abracadabra', ',', 'abracadabra', 'abracadabra', ',', 'abracadabra', 'feel', 'the', 'beat', 'under', 'your', 'feet', ',', 'the', 'floor', \"'s\", 'on', 'fire', 'abracadabra', ',', 'abracadabra', 'phantom', 'of', 'the', 'dance', 'floor', ',', 'come', 'to', 'me', 'sing', 'for', 'me', 'a', 'sinful', 'melody', 'ah', ',', 'ah', ',', 'ah', ',', 'ah', ',', 'ah', 'ah', ',', 'ah', ',', 'ah', ',', 'ah', ',', 'ah', ',', 'ah', 'ah', ',', 'ah', ',', 'ah', ',', 'ah', ',', 'ah', 'ah', ',', 'ah', ',', 'ah', ',', 'ah', ',', 'ah', 'abracadabra', ',', 'amor-oo-na-na', 'abracadabra', ',', 'morta-ooh-ga-ga', 'abracadabra', ',', 'abra-oo-na-na', 'in', 'her', 'tongue', 'she', 'said', '``', 'death', 'or', 'love', 'tonight', \"''\", '(', 'rah', ')', 'abracadabra', ',', 'amor-oo-na-na', 'abracadabra', ',', 'morta-ooh-ga-ga', 'abracadabra', ',', 'abra-oo-na-na', \"''\", 'in', 'her', 'tongue', 'she', 'said', '``', 'death', 'or', 'love', 'tonight', \"''\", 'dodaj', 'adnotację', 'do', 'tego', 'tekstu', '»', 'historia', 'edycji', 'tekstu'], ['tekst', 'piosenki', ':', 'a', 'ty', 'ze', 'mną', 'dzisiaj', 'tańcz', 'jeśli', 'jutra', 'nie', 'ma', 'niech', 'wszystko', 'jest', 'na', 'tak', 'kiedyś', 'się', 'pozbieram', 'bo', 'chcemy', 'tylko', 'tańczyć', ',', 'więc', 'tańczmy', 'co', 'noc', 'niech', 'patrzy', 'na', 'nas', 'każdy', ',', 'już', 'tańczmy', 'co', 'noc', 'podobno', 'coś', 'ci', 'mówił', 'o', 'mnie', 'chyba', 'przy', 'tobie', 'chciałby', 'być', 'jak', 'ja', 'raz', 'może', 'go', 'widziałem', 'w', 'oknie', 'on', 'twierdzi', ',', 'że', 'mnie', 'bardzo', 'dobrze', 'zna', 'ja', 'chcę', 'cię', 'kochać', 'nieprzytomnie', 'a', 'wiem', ',', 'ze', 'lubisz', 'na', 'nich', 'tracić', 'czas', 'chcę', 'ci', 'zostawić', 'kilka', 'wspomnień', 'ulotnie', ',', 'tak', 'ulotnie', 'przepływa', 'wieczór', 'kiedy', 'jesteś', 'tu', 'przyzwyczaiłaś', 'mnie', 'do', 'takich', 'słów', 'nimi', 'przyciągasz', 'mnie', 'jak', 'niebo', 'wschód', 'dam', 'ci', 'słowo', ',', 'będę', 'obok', 'a', 'ty', 'ze', 'mną', 'dzisiaj', 'tańcz', 'jeśli', 'jutra', 'nie', 'ma', 'niech', 'wszystko', 'jest', 'na', 'tak', 'kiedyś', 'się', 'pozbieram', 'bo', 'chcemy', 'tylko', 'tańczyć', ',', 'więc', 'tańczmy', 'co', 'noc', 'niech', 'patrzy', 'na', 'nas', 'każdy', ',', 'już', 'tańczmy', 'co', 'noc', 'rzucasz', 'mi', 'serię', 'krótkich', 'spojrzeń', 'coś', 'jest', 'na', 'rzeczy', 'i', 'to', 'bez', 'dwóch', 'zdań', 'mieszasz', 'mi', 'w', 'głowie', 'coraz', 'mocniej', 'gdy', 'tak', 'przemykasz', 'obok', 'raz', 'po', 'raz', 'bo', 'to', 'do', 'ciebie', 'niepodobne', 'i', 'nie', 'pasuje', 'tutaj', 'żadne', 'z', 'nas', 'do', 'jutra', 'zdążą', 'już', 'zapomnieć', 'i', 'dobrze', 'a', 'ty', 'ze', 'mną', 'dzisiaj', 'tańcz', 'jeśli', 'jutra', 'nie', 'ma', 'niech', 'wszystko', 'jest', 'na', 'tak', 'kiedyś', 'się', 'pozbieram', 'bo', 'chcemy', 'tylko', 'tańczyć', ',', 'więc', 'tańczmy', 'co', 'noc', 'niech', 'patrzy', 'na', 'nas', 'każdy', ',', 'już', 'tańczmy', 'co', 'noc', 'czuję', 'cię', 'bardziej', 'paradoksalnie', 'za', 'każdym', 'razem', 'nie', 'na', 'zawsze', 'dodaj', 'adnotację', 'do', 'tego', 'tekstu', '»', 'historia', 'edycji', 'tekstu'], ['tekst', 'piosenki', ':', '[', 'verse', '1', ']', 'you', 'know', 'i', \"'m\", 'impatient', 'so', 'why', 'would', 'you', 'leave', 'me', 'waiting', 'outside', 'the', 'station', '?', 'when', 'it', 'was', 'like', 'minus', '4', 'degrees', 'and', 'i', 'i', 'get', 'what', 'you', \"'re\", 'saying', 'i', 'just', 'really', 'do', \"n't\", 'want', 'to', 'hear', 'it', 'right', 'now', 'can', 'you', 'shut', 'up', 'for', 'like', 'once', 'in', 'your', 'life', '?', 'listen', 'to', 'me', 'i', 'took', 'your', 'nice', 'words', 'of', 'advice', 'about', 'how', 'you', 'think', 'i', \"'m\", 'gon', 'na', 'die', 'lucky', 'if', 'i', 'turned', '33', 'okay', ',', 'so', 'yeah', ',', 'i', 'smoke', 'like', 'a', 'chimney', 'i', \"'m\", 'not', 'skinny', 'and', 'i', 'pull', 'a', 'britney', 'every', 'other', 'week', 'but', 'cut', 'me', 'some', 'slack', 'who', 'do', 'you', 'want', 'me', 'to', 'be', '?', '[', 'chorus', ']', \"'cause\", 'i', \"'m\", 'too', 'messy', 'and', 'then', 'i', \"'m\", 'too', 'fucking', 'clean', 'you', 'told', 'me', ',', '``', 'get', 'a', 'job', \"''\", 'and', 'you', 'ask', 'where', 'the', 'hell', 'i', \"'ve\", 'been', 'and', 'i', \"'m\", 'too', 'perfect', 'till', 'i', 'open', 'my', 'big', 'mouth', 'i', 'want', 'to', 'be', 'me', 'is', 'that', 'not', 'allowed', '?', 'and', 'i', \"'m\", 'too', 'clever', 'and', 'then', 'i', \"'m\", 'too', 'fucking', 'dumb', 'you', 'hate', 'it', 'when', 'i', 'cry', 'unless', 'it', \"'s\", 'that', 'time', 'of', 'the', 'month', 'and', 'i', \"'m\", 'too', 'perfect', 'till', 'i', 'show', 'you', 'that', 'i', \"'m\", 'not', 'a', 'thousand', 'people', 'i', 'could', 'be', 'for', 'you', 'and', 'you', 'hate', 'the', 'fucking', 'lot', '[', 'verse', '2', ']', 'it', \"'s\", 'taking', 'you', 'ages', 'still', 'do', \"n't\", 'get', 'the', 'hint', 'i', \"'m\", 'not', 'asking', 'for', 'pages', 'but', 'one', 'text', 'or', 'two', 'would', 'be', 'nice', 'and', 'please', ',', 'do', \"n't\", 'pull', 'those', 'faces', 'when', 'i', \"'ve\", 'been', 'out', 'working', 'my', 'arse', 'off', 'all', 'day', 'it', \"'s\", 'just', 'one', 'bottle', 'of', 'wine', 'or', 'two', 'but', 'hey', ',', 'you', 'ca', \"n't\", 'even', 'talk', 'you', 'smoke', 'weed', 'just', 'to', 'help', 'you', 'sleep', 'then', 'why', 'you', \"'re\", 'out', 'getting', 'stoned', 'at', '4', \"o'clock\", 'and', 'then', 'you', 'come', 'home', 'to', 'me', 'and', 'do', \"n't\", 'say', 'hello', \"'cause\", 'i', 'got', 'high', 'again', 'and', 'forgot', 'to', 'fold', 'my', 'clothes', '[', 'chorus', ']', \"'cause\", 'i', \"'m\", 'too', 'messy', 'and', 'then', 'i', \"'m\", 'too', 'fucking', 'clean', 'you', 'told', 'me', ',', '``', 'get', 'a', 'job', \"''\", 'and', 'you', 'ask', 'where', 'the', 'hell', 'i', \"'ve\", 'been', 'and', 'i', \"'m\", 'too', 'perfect', 'till', 'i', 'open', 'my', 'big', 'mouth', 'i', 'want', 'to', 'be', 'me', 'is', 'that', 'not', 'allowed', '?', 'and', 'i', \"'m\", 'too', 'clever', 'and', 'then', 'i', \"'m\", 'too', 'fucking', 'dumb', 'you', 'hate', 'it', 'when', 'i', 'cry', 'unless', 'it', \"'s\", 'that', 'time', 'of', 'the', 'month', 'and', 'i', \"'m\", 'too', 'perfect', 'till', 'i', 'show', 'you', 'that', 'i', \"'m\", 'not', 'a', 'thousand', 'people', 'i', 'could', 'be', 'for', 'you', 'and', 'you', 'hate', 'the', 'fucking', 'lot', '[', 'instrumental', ']', '[', 'chorus', ']', \"'cause\", 'i', \"'m\", 'too', 'messy', 'and', 'then', 'i', \"'m\", 'too', 'fucking', 'clean', 'you', 'told', 'me', ',', '``', 'get', 'a', 'job', \"''\", 'and', 'you', 'ask', 'where', 'the', 'hell', 'i', \"'ve\", 'been', 'and', 'i', \"'m\", 'too', 'perfect', 'till', 'i', 'open', 'my', 'big', 'mouth', 'i', 'want', 'to', 'be', 'me', 'is', 'that', 'not', 'allowed', '?', 'and', 'i', \"'m\", 'too', 'clever', 'and', 'then', 'i', \"'m\", 'too', 'fucking', 'dumb', 'you', 'hate', 'it', 'when', 'i', 'cry', 'unless', 'it', \"'s\", 'that', 'time', 'of', 'the', 'month', 'and', 'i', \"'m\", 'too', 'perfect', 'till', 'i', 'show', 'you', 'that', 'i', \"'m\", 'not', 'a', 'thousand', 'people', 'i', 'could', 'be', 'for', 'you', 'and', 'you', 'hate', 'the', 'fucking', 'lot', '[', 'outro', ']', 'you', 'hate', 'the', 'fucking', 'lot', 'you', 'hate', 'the', 'fucking', 'lot', 'you', 'hate', 'the', 'fucking', 'lot', 'you', 'hate', 'the', 'fucking', 'lot', 'dodaj', 'adnotację', 'do', 'tego', 'tekstu', '»', 'historia', 'edycji', 'tekstu']]\n"
     ]
    }
   ],
   "source": [
    "lyrics = [text.replace(\"\\n\", \" \").lower() for text in lyrics if isinstance(text,str)]\n",
    "print(lyrics)\n",
    "lyrics_tokenized= [word_tokenize(song) for song in lyrics]\n",
    "print(lyrics_tokenized)"
   ]
  },
  {
   "cell_type": "code",
   "execution_count": 56,
   "metadata": {},
   "outputs": [],
   "source": [
    "#Miara Herdana\n",
    "herdan = []\n",
    "for song in lyrics_tokenized:\n",
    "    M  = len(song)\n",
    "\n",
    "    unique = set(song)\n",
    "    V = len(unique)\n",
    "\n",
    "    import math \n",
    "    C=  math.log(V)/math.log(M)\n",
    "    herdan.append(C)"
   ]
  },
  {
   "cell_type": "code",
   "execution_count": 61,
   "metadata": {},
   "outputs": [
    {
     "data": {
      "image/png": "[encoded data removed]",
      "text/plain": [
       "<Figure size 640x480 with 1 Axes>"
      ]
     },
     "metadata": {},
     "output_type": "display_data"
    }
   ],
   "source": [
    "places = [1, 2, 3, 6, 8, 11, 12, 18, 20, 23, 28] #places in the ranging\n",
    "\n",
    "import scipy.stats as stats\n",
    "import matplotlib.pyplot as plt\n",
    "correlation, p_value = stats.pearsonr(places, herdan)\n",
    "\n",
    "plt.scatter(places, herdan, label=f'Correlaton: {round(correlation,2)}\\n P-value: {round(p_value,2)}')\n",
    "plt.xlabel(\"Ranging place\")\n",
    "plt.ylabel(\"Herdan\")\n",
    "plt.legend()\n",
    "plt.grid()\n",
    "\n",
    "# Wyświetlenie wykresu\n",
    "plt.show()"
   ]
  }
 ],
 "metadata": {
  "kernelspec": {
   "display_name": "Pbioinf1.2",
   "language": "python",
   "name": "python3"
  },
  "language_info": {
   "codemirror_mode": {
    "name": "ipython",
    "version": 3
   },
   "file_extension": ".py",
   "mimetype": "text/x-python",
   "name": "python",
   "nbconvert_exporter": "python",
   "pygments_lexer": "ipython3",
   "version": "3.12.9"
  }
 },
 "nbformat": 4,
 "nbformat_minor": 4
}
